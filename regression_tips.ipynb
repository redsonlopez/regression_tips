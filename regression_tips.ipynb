{
 "cells": [
  {
   "cell_type": "markdown",
   "metadata": {
    "id": "YLq87MdppJJU"
   },
   "source": [
    "## <b><i>Modelo Estatístico para previsão de </b>'Gorjetas'</i>\n",
    "<b>Este conjunto de dados contém as seguintes informações:</b><br><br><i>\n",
    "<b>total_bill:</b> valor total da conta.<br>\n",
    "<b>tip:</b> valor da gorjeta.<br>\n",
    "<b>sex:</b> sexo da pessoa que pagou a conta.<br>\n",
    "<b>smoker:</b> indica se a pessoa que pagou a conta é fumante.<br>\n",
    "<b>day:</b> dia da semana<br>\n",
    "<b>time:</b> horário da refeição: almoço (lunch) ou jantar (dinner).<br>\n",
    "<b>size:</b> indica o número de pessoas que estavam na mesa.<br>"
   ]
  },
  {
   "cell_type": "markdown",
   "metadata": {
    "id": "XQ1KKbjfDA1Z"
   },
   "source": [
    "### Importação das bibliotécas"
   ]
  },
  {
   "cell_type": "code",
   "execution_count": 400,
   "metadata": {
    "executionInfo": {
     "elapsed": 4785,
     "status": "ok",
     "timestamp": 1758724072459,
     "user": {
      "displayName": "Hedson Lopes",
      "userId": "00601403561073870653"
     },
     "user_tz": 180
    },
    "id": "onvMIf5aR1jG"
   },
   "outputs": [],
   "source": [
    "import numpy as np\n",
    "import pandas as pd\n",
    "import scipy.stats as stats\n",
    "import seaborn as sns\n",
    "import statsmodels.api as sm\n",
    "from mlxtend.feature_selection import SequentialFeatureSelector as SFS\n",
    "from scipy.stats import shapiro, pearsonr, spearmanr, kendalltau\n",
    "from sklearn.linear_model import LinearRegression, Lasso\n",
    "from sklearn.metrics import mean_absolute_error, mean_squared_error\n",
    "from sklearn.model_selection import train_test_split, GridSearchCV\n",
    "from sklearn.preprocessing import LabelEncoder, StandardScaler, MinMaxScaler\n",
    "from statsmodels.stats.diagnostic import het_breuschpagan"
   ]
  },
  {
   "cell_type": "markdown",
   "metadata": {
    "id": "BH7nya4yDJe0"
   },
   "source": [
    "### Configurações para os gráficos"
   ]
  },
  {
   "cell_type": "code",
   "execution_count": 401,
   "metadata": {
    "executionInfo": {
     "elapsed": 9,
     "status": "ok",
     "timestamp": 1758724072531,
     "user": {
      "displayName": "Hedson Lopes",
      "userId": "00601403561073870653"
     },
     "user_tz": 180
    },
    "id": "xzkIj3jW2Zx3"
   },
   "outputs": [],
   "source": [
    "plot_config= {\n",
    "        \"axes.facecolor\": \"#383838\",    # Cor de fundo dos gráficos\n",
    "        \"figure.facecolor\": \"#383838\",  # Cor de fundo da figura\n",
    "        \"text.color\": \"white\",          # Cor do texto\n",
    "        \"axes.labelcolor\": \"white\",     # Cor dos rótulos dos eixos\n",
    "        \"xtick.color\": \"white\",         # Cor dos ticks do eixo x\n",
    "        \"ytick.color\": \"white\",         # Cor dos ticks do eixo y\n",
    "        \"axes.edgecolor\": \"white\",      # Cor das bordas dos gráficos\n",
    "        \"axes.spines.top\": False,       # Ativar ou remover borda superior\n",
    "        \"axes.spines.right\": False,     # Ativar ou remover borda direita\n",
    "        \"axes.grid\": False,             # Ativar ou remover grade\n",
    "        \"grid.color\": \"#686868\",        # Cor da grade\n",
    "        \"grid.linestyle\": \"--\",         # Estilo da grade\n",
    "        \"figure.figsize\": (10, 5)       # Tamanho padrão da figura\n",
    "}\n",
    "sns.set_theme(rc= plot_config)"
   ]
  },
  {
   "cell_type": "markdown",
   "metadata": {
    "id": "pW_2K52pDToi"
   },
   "source": [
    "### Carga dos dados e configuração para exibição numérica"
   ]
  },
  {
   "cell_type": "code",
   "execution_count": 402,
   "metadata": {
    "executionInfo": {
     "elapsed": 11,
     "status": "ok",
     "timestamp": 1758724072553,
     "user": {
      "displayName": "Hedson Lopes",
      "userId": "00601403561073870653"
     },
     "user_tz": 180
    },
    "id": "OUgqYNDL2f2T"
   },
   "outputs": [],
   "source": [
    "df= sns.load_dataset(\"tips\")\n",
    "pd.options.display.float_format = '{:.2f}'.format"
   ]
  },
  {
   "cell_type": "markdown",
   "metadata": {
    "id": "jrFsyB4jqpEE"
   },
   "source": [
    "### Criação de Variáveis\n",
    "Criação da variável <b>person_bill</b> (conta dividida pela quantidade de pessoas);<br>\n",
    "Criação da variável <b>person_tip</b> (gorjeta dividida pela quantidade de pessoas);<br>\n",
    "Criação da variável <b>waiter_percent</b> (percentual recebido como gorjeta pelo garçon)"
   ]
  },
  {
   "cell_type": "code",
   "execution_count": 403,
   "metadata": {
    "colab": {
     "base_uri": "https://localhost:8080/",
     "height": 178
    },
    "executionInfo": {
     "elapsed": 139,
     "status": "ok",
     "timestamp": 1758724072700,
     "user": {
      "displayName": "Hedson Lopes",
      "userId": "00601403561073870653"
     },
     "user_tz": 180
    },
    "id": "j_Sj5jUvnK0G",
    "outputId": "86e808cd-b6af-4b8d-f503-17b88f65be8f"
   },
   "outputs": [
    {
     "name": "stdout",
     "output_type": "stream",
     "text": [
      "A amostra contém 244 registros e 10 variáveis\n",
      "\n"
     ]
    },
    {
     "data": {
      "text/html": [
       "<div>\n",
       "<style scoped>\n",
       "    .dataframe tbody tr th:only-of-type {\n",
       "        vertical-align: middle;\n",
       "    }\n",
       "\n",
       "    .dataframe tbody tr th {\n",
       "        vertical-align: top;\n",
       "    }\n",
       "\n",
       "    .dataframe thead th {\n",
       "        text-align: right;\n",
       "    }\n",
       "</style>\n",
       "<table border=\"1\" class=\"dataframe\">\n",
       "  <thead>\n",
       "    <tr style=\"text-align: right;\">\n",
       "      <th></th>\n",
       "      <th>total_bill</th>\n",
       "      <th>tip</th>\n",
       "      <th>sex</th>\n",
       "      <th>smoker</th>\n",
       "      <th>day</th>\n",
       "      <th>time</th>\n",
       "      <th>size</th>\n",
       "      <th>person_bill</th>\n",
       "      <th>person_tip</th>\n",
       "      <th>waiter_percent</th>\n",
       "    </tr>\n",
       "  </thead>\n",
       "  <tbody>\n",
       "    <tr>\n",
       "      <th>0</th>\n",
       "      <td>16.99</td>\n",
       "      <td>1.01</td>\n",
       "      <td>Female</td>\n",
       "      <td>No</td>\n",
       "      <td>Sun</td>\n",
       "      <td>Dinner</td>\n",
       "      <td>2</td>\n",
       "      <td>8.49</td>\n",
       "      <td>0.50</td>\n",
       "      <td>5.94</td>\n",
       "    </tr>\n",
       "    <tr>\n",
       "      <th>1</th>\n",
       "      <td>10.34</td>\n",
       "      <td>1.66</td>\n",
       "      <td>Male</td>\n",
       "      <td>No</td>\n",
       "      <td>Sun</td>\n",
       "      <td>Dinner</td>\n",
       "      <td>3</td>\n",
       "      <td>3.45</td>\n",
       "      <td>0.55</td>\n",
       "      <td>16.05</td>\n",
       "    </tr>\n",
       "    <tr>\n",
       "      <th>2</th>\n",
       "      <td>21.01</td>\n",
       "      <td>3.50</td>\n",
       "      <td>Male</td>\n",
       "      <td>No</td>\n",
       "      <td>Sun</td>\n",
       "      <td>Dinner</td>\n",
       "      <td>3</td>\n",
       "      <td>7.00</td>\n",
       "      <td>1.17</td>\n",
       "      <td>16.66</td>\n",
       "    </tr>\n",
       "  </tbody>\n",
       "</table>\n",
       "</div>"
      ],
      "text/plain": [
       "   total_bill  tip     sex smoker  day    time  size  person_bill  person_tip  \\\n",
       "0       16.99 1.01  Female     No  Sun  Dinner     2         8.49        0.50   \n",
       "1       10.34 1.66    Male     No  Sun  Dinner     3         3.45        0.55   \n",
       "2       21.01 3.50    Male     No  Sun  Dinner     3         7.00        1.17   \n",
       "\n",
       "   waiter_percent  \n",
       "0            5.94  \n",
       "1           16.05  \n",
       "2           16.66  "
      ]
     },
     "execution_count": 403,
     "metadata": {},
     "output_type": "execute_result"
    }
   ],
   "source": [
    "df[\"person_bill\"] = round((df[\"total_bill\"] / df[\"size\"]), 2)\n",
    "df[\"person_tip\"] = round((df[\"tip\"] / df[\"size\"]), 2)\n",
    "df[\"waiter_percent\"] = round((df[\"tip\"] / df[\"total_bill\"])* 100, 2)\n",
    "\n",
    "print(f\"A amostra contém {df.shape[0]} registros e {df.shape[1]} variáveis\\n\")\n",
    "df.head(3)"
   ]
  },
  {
   "cell_type": "markdown",
   "metadata": {},
   "source": [
    "#### Distribuições Condicionais"
   ]
  },
  {
   "cell_type": "code",
   "execution_count": 404,
   "metadata": {},
   "outputs": [
    {
     "data": {
      "text/html": [
       "<div>\n",
       "<style scoped>\n",
       "    .dataframe tbody tr th:only-of-type {\n",
       "        vertical-align: middle;\n",
       "    }\n",
       "\n",
       "    .dataframe tbody tr th {\n",
       "        vertical-align: top;\n",
       "    }\n",
       "\n",
       "    .dataframe thead th {\n",
       "        text-align: right;\n",
       "    }\n",
       "</style>\n",
       "<table border=\"1\" class=\"dataframe\">\n",
       "  <thead>\n",
       "    <tr style=\"text-align: right;\">\n",
       "      <th></th>\n",
       "      <th>person_bill</th>\n",
       "      <th>person_tip</th>\n",
       "      <th>waiter_percent</th>\n",
       "    </tr>\n",
       "    <tr>\n",
       "      <th>sex</th>\n",
       "      <th></th>\n",
       "      <th></th>\n",
       "      <th></th>\n",
       "    </tr>\n",
       "  </thead>\n",
       "  <tbody>\n",
       "    <tr>\n",
       "      <th>Male</th>\n",
       "      <td>8.12</td>\n",
       "      <td>1.22</td>\n",
       "      <td>15.76</td>\n",
       "    </tr>\n",
       "    <tr>\n",
       "      <th>Female</th>\n",
       "      <td>7.46</td>\n",
       "      <td>1.19</td>\n",
       "      <td>16.65</td>\n",
       "    </tr>\n",
       "  </tbody>\n",
       "</table>\n",
       "</div>"
      ],
      "text/plain": [
       "        person_bill  person_tip  waiter_percent\n",
       "sex                                            \n",
       "Male           8.12        1.22           15.76\n",
       "Female         7.46        1.19           16.65"
      ]
     },
     "execution_count": 404,
     "metadata": {},
     "output_type": "execute_result"
    }
   ],
   "source": [
    "df.groupby(\"sex\", observed=True)[[\"person_bill\", \"person_tip\", \"waiter_percent\"]].mean()"
   ]
  },
  {
   "cell_type": "markdown",
   "metadata": {
    "id": "_PumN25NDklp"
   },
   "source": [
    "### Quantidade de dados nulos para cada variável"
   ]
  },
  {
   "cell_type": "code",
   "execution_count": 405,
   "metadata": {
    "colab": {
     "base_uri": "https://localhost:8080/",
     "height": 335
    },
    "executionInfo": {
     "elapsed": 24,
     "status": "ok",
     "timestamp": 1758724072733,
     "user": {
      "displayName": "Hedson Lopes",
      "userId": "00601403561073870653"
     },
     "user_tz": 180
    },
    "id": "0jNOTOUR_FfN",
    "outputId": "1b5ed32d-4e97-425b-ae72-75ad3b6b8dd9"
   },
   "outputs": [
    {
     "data": {
      "text/plain": [
       "total_bill        0\n",
       "tip               0\n",
       "sex               0\n",
       "smoker            0\n",
       "day               0\n",
       "time              0\n",
       "size              0\n",
       "person_bill       0\n",
       "person_tip        0\n",
       "waiter_percent    0\n",
       "dtype: int64"
      ]
     },
     "execution_count": 405,
     "metadata": {},
     "output_type": "execute_result"
    }
   ],
   "source": [
    "df.isna().sum()"
   ]
  },
  {
   "cell_type": "markdown",
   "metadata": {
    "id": "cmMQ6I09Dqnn"
   },
   "source": [
    "### Tipo dos dados"
   ]
  },
  {
   "cell_type": "code",
   "execution_count": 406,
   "metadata": {
    "colab": {
     "base_uri": "https://localhost:8080/",
     "height": 335
    },
    "executionInfo": {
     "elapsed": 85,
     "status": "ok",
     "timestamp": 1758724072827,
     "user": {
      "displayName": "Hedson Lopes",
      "userId": "00601403561073870653"
     },
     "user_tz": 180
    },
    "id": "VPG15rRK-flC",
    "outputId": "92e27bd9-6b79-4a3a-e349-098d11928ab4"
   },
   "outputs": [
    {
     "data": {
      "text/plain": [
       "total_bill         float64\n",
       "tip                float64\n",
       "sex               category\n",
       "smoker            category\n",
       "day               category\n",
       "time              category\n",
       "size                 int64\n",
       "person_bill        float64\n",
       "person_tip         float64\n",
       "waiter_percent     float64\n",
       "dtype: object"
      ]
     },
     "execution_count": 406,
     "metadata": {},
     "output_type": "execute_result"
    }
   ],
   "source": [
    "df.dtypes"
   ]
  },
  {
   "cell_type": "markdown",
   "metadata": {
    "id": "i6vNRj9pnSi-"
   },
   "source": [
    "### Analise descritiva das medidas de tendencia central"
   ]
  },
  {
   "cell_type": "code",
   "execution_count": 407,
   "metadata": {
    "colab": {
     "base_uri": "https://localhost:8080/",
     "height": 300
    },
    "executionInfo": {
     "elapsed": 19,
     "status": "ok",
     "timestamp": 1758724072858,
     "user": {
      "displayName": "Hedson Lopes",
      "userId": "00601403561073870653"
     },
     "user_tz": 180
    },
    "id": "ZB1eSv0x_hQB",
    "outputId": "56194014-3299-4d86-d530-360e30d3e374"
   },
   "outputs": [
    {
     "data": {
      "text/html": [
       "<div>\n",
       "<style scoped>\n",
       "    .dataframe tbody tr th:only-of-type {\n",
       "        vertical-align: middle;\n",
       "    }\n",
       "\n",
       "    .dataframe tbody tr th {\n",
       "        vertical-align: top;\n",
       "    }\n",
       "\n",
       "    .dataframe thead th {\n",
       "        text-align: right;\n",
       "    }\n",
       "</style>\n",
       "<table border=\"1\" class=\"dataframe\">\n",
       "  <thead>\n",
       "    <tr style=\"text-align: right;\">\n",
       "      <th></th>\n",
       "      <th>total_bill</th>\n",
       "      <th>tip</th>\n",
       "      <th>size</th>\n",
       "      <th>person_bill</th>\n",
       "      <th>person_tip</th>\n",
       "      <th>waiter_percent</th>\n",
       "    </tr>\n",
       "  </thead>\n",
       "  <tbody>\n",
       "    <tr>\n",
       "      <th>count</th>\n",
       "      <td>244.00</td>\n",
       "      <td>244.00</td>\n",
       "      <td>244.00</td>\n",
       "      <td>244.00</td>\n",
       "      <td>244.00</td>\n",
       "      <td>244.00</td>\n",
       "    </tr>\n",
       "    <tr>\n",
       "      <th>mean</th>\n",
       "      <td>19.79</td>\n",
       "      <td>3.00</td>\n",
       "      <td>2.57</td>\n",
       "      <td>7.89</td>\n",
       "      <td>1.21</td>\n",
       "      <td>16.08</td>\n",
       "    </tr>\n",
       "    <tr>\n",
       "      <th>std</th>\n",
       "      <td>8.90</td>\n",
       "      <td>1.38</td>\n",
       "      <td>0.95</td>\n",
       "      <td>2.91</td>\n",
       "      <td>0.49</td>\n",
       "      <td>6.11</td>\n",
       "    </tr>\n",
       "    <tr>\n",
       "      <th>min</th>\n",
       "      <td>3.07</td>\n",
       "      <td>1.00</td>\n",
       "      <td>1.00</td>\n",
       "      <td>2.88</td>\n",
       "      <td>0.40</td>\n",
       "      <td>3.56</td>\n",
       "    </tr>\n",
       "    <tr>\n",
       "      <th>25%</th>\n",
       "      <td>13.35</td>\n",
       "      <td>2.00</td>\n",
       "      <td>2.00</td>\n",
       "      <td>5.80</td>\n",
       "      <td>0.86</td>\n",
       "      <td>12.91</td>\n",
       "    </tr>\n",
       "    <tr>\n",
       "      <th>50%</th>\n",
       "      <td>17.80</td>\n",
       "      <td>2.90</td>\n",
       "      <td>2.00</td>\n",
       "      <td>7.25</td>\n",
       "      <td>1.11</td>\n",
       "      <td>15.47</td>\n",
       "    </tr>\n",
       "    <tr>\n",
       "      <th>75%</th>\n",
       "      <td>24.13</td>\n",
       "      <td>3.56</td>\n",
       "      <td>3.00</td>\n",
       "      <td>9.39</td>\n",
       "      <td>1.50</td>\n",
       "      <td>19.15</td>\n",
       "    </tr>\n",
       "    <tr>\n",
       "      <th>max</th>\n",
       "      <td>50.81</td>\n",
       "      <td>10.00</td>\n",
       "      <td>6.00</td>\n",
       "      <td>20.27</td>\n",
       "      <td>3.33</td>\n",
       "      <td>71.03</td>\n",
       "    </tr>\n",
       "  </tbody>\n",
       "</table>\n",
       "</div>"
      ],
      "text/plain": [
       "       total_bill    tip   size  person_bill  person_tip  waiter_percent\n",
       "count      244.00 244.00 244.00       244.00      244.00          244.00\n",
       "mean        19.79   3.00   2.57         7.89        1.21           16.08\n",
       "std          8.90   1.38   0.95         2.91        0.49            6.11\n",
       "min          3.07   1.00   1.00         2.88        0.40            3.56\n",
       "25%         13.35   2.00   2.00         5.80        0.86           12.91\n",
       "50%         17.80   2.90   2.00         7.25        1.11           15.47\n",
       "75%         24.13   3.56   3.00         9.39        1.50           19.15\n",
       "max         50.81  10.00   6.00        20.27        3.33           71.03"
      ]
     },
     "execution_count": 407,
     "metadata": {},
     "output_type": "execute_result"
    }
   ],
   "source": [
    "numericas = df.select_dtypes(include='number')\n",
    "numericas.describe()"
   ]
  },
  {
   "cell_type": "markdown",
   "metadata": {
    "id": "g_DtlV--8hWR"
   },
   "source": [
    "### Visualização para análise de outliers"
   ]
  },
  {
   "cell_type": "code",
   "execution_count": 408,
   "metadata": {
    "colab": {
     "base_uri": "https://localhost:8080/",
     "height": 451
    },
    "executionInfo": {
     "elapsed": 461,
     "status": "ok",
     "timestamp": 1758724073328,
     "user": {
      "displayName": "Hedson Lopes",
      "userId": "00601403561073870653"
     },
     "user_tz": 180
    },
    "id": "2zWkfYO18kpO",
    "outputId": "d09193ce-4265-419a-e0bf-9bffa3f12b39"
   },
   "outputs": [
    {
     "data": {
      "image/png": "[encoded data removed]",
      "text/plain": [
       "<Figure size 1000x500 with 1 Axes>"
      ]
     },
     "metadata": {},
     "output_type": "display_data"
    }
   ],
   "source": [
    "sns.boxenplot(numericas);"
   ]
  },
  {
   "cell_type": "markdown",
   "metadata": {
    "id": "cySDF2OJj_iy"
   },
   "source": [
    "### Verificação de dados únicos por variável categórica"
   ]
  },
  {
   "cell_type": "code",
   "execution_count": 409,
   "metadata": {
    "colab": {
     "base_uri": "https://localhost:8080/"
    },
    "executionInfo": {
     "elapsed": 31,
     "status": "ok",
     "timestamp": 1758724073367,
     "user": {
      "displayName": "Hedson Lopes",
      "userId": "00601403561073870653"
     },
     "user_tz": 180
    },
    "id": "yv8W0xj7kWwg",
    "outputId": "47a8d7e6-52c2-4b84-b55d-f351b4e69ad0"
   },
   "outputs": [
    {
     "name": "stdout",
     "output_type": "stream",
     "text": [
      "Dados únicos da variável 'sex':\n",
      "['Female', 'Male']\n",
      "Categories (2, object): ['Male', 'Female']\n",
      "\n",
      "Dados únicos da variável 'smoker':\n",
      "['No', 'Yes']\n",
      "Categories (2, object): ['Yes', 'No']\n",
      "\n",
      "Dados únicos da variável 'day':\n",
      "['Sun', 'Sat', 'Thur', 'Fri']\n",
      "Categories (4, object): ['Thur', 'Fri', 'Sat', 'Sun']\n",
      "\n",
      "Dados únicos da variável 'time':\n",
      "['Dinner', 'Lunch']\n",
      "Categories (2, object): ['Lunch', 'Dinner']\n",
      "\n"
     ]
    }
   ],
   "source": [
    "categoricas = df.select_dtypes(include=\"category\")\n",
    "for i in categoricas.columns:\n",
    "  print(f\"Dados únicos da variável '{i}':\\n{categoricas[i].unique()}\\n\")"
   ]
  },
  {
   "cell_type": "markdown",
   "metadata": {
    "id": "o2boFXQjU_gr"
   },
   "source": [
    "### Transformação das Variáveis Categóricas\n",
    "#### LabelEncoder"
   ]
  },
  {
   "cell_type": "code",
   "execution_count": 411,
   "metadata": {},
   "outputs": [],
   "source": [
    "#df[\"sex_encoded\"] = np.where(df[\"sex\"] == \"Female\", 1, 0)\n",
    "#df[\"smoker_encoded\"] = np.where(df[\"smoker\"] == \"Yes\", 1, 0)\n",
    "#df[\"time_encoded\"] = np.where(df[\"time\"] == \"Lunch\", 1, 0)\n",
    "\n",
    "#df.drop([\"sex\", \"smoker\", \"time\"], axis=1, inplace=True)\n",
    "#df.head()"
   ]
  },
  {
   "cell_type": "code",
   "execution_count": 410,
   "metadata": {
    "colab": {
     "base_uri": "https://localhost:8080/",
     "height": 206
    },
    "executionInfo": {
     "elapsed": 17,
     "status": "ok",
     "timestamp": 1758724073393,
     "user": {
      "displayName": "Hedson Lopes",
      "userId": "00601403561073870653"
     },
     "user_tz": 180
    },
    "id": "sn9vtkclwg8f",
    "outputId": "de46aed2-fa98-495a-af04-85f5e855ddbb"
   },
   "outputs": [
    {
     "data": {
      "text/html": [
       "<div>\n",
       "<style scoped>\n",
       "    .dataframe tbody tr th:only-of-type {\n",
       "        vertical-align: middle;\n",
       "    }\n",
       "\n",
       "    .dataframe tbody tr th {\n",
       "        vertical-align: top;\n",
       "    }\n",
       "\n",
       "    .dataframe thead th {\n",
       "        text-align: right;\n",
       "    }\n",
       "</style>\n",
       "<table border=\"1\" class=\"dataframe\">\n",
       "  <thead>\n",
       "    <tr style=\"text-align: right;\">\n",
       "      <th></th>\n",
       "      <th>total_bill</th>\n",
       "      <th>tip</th>\n",
       "      <th>sex</th>\n",
       "      <th>smoker</th>\n",
       "      <th>day</th>\n",
       "      <th>time</th>\n",
       "      <th>size</th>\n",
       "      <th>person_bill</th>\n",
       "      <th>person_tip</th>\n",
       "      <th>waiter_percent</th>\n",
       "    </tr>\n",
       "  </thead>\n",
       "  <tbody>\n",
       "    <tr>\n",
       "      <th>0</th>\n",
       "      <td>16.99</td>\n",
       "      <td>1.01</td>\n",
       "      <td>0</td>\n",
       "      <td>0</td>\n",
       "      <td>Sun</td>\n",
       "      <td>0</td>\n",
       "      <td>2</td>\n",
       "      <td>8.49</td>\n",
       "      <td>0.50</td>\n",
       "      <td>5.94</td>\n",
       "    </tr>\n",
       "    <tr>\n",
       "      <th>1</th>\n",
       "      <td>10.34</td>\n",
       "      <td>1.66</td>\n",
       "      <td>1</td>\n",
       "      <td>0</td>\n",
       "      <td>Sun</td>\n",
       "      <td>0</td>\n",
       "      <td>3</td>\n",
       "      <td>3.45</td>\n",
       "      <td>0.55</td>\n",
       "      <td>16.05</td>\n",
       "    </tr>\n",
       "    <tr>\n",
       "      <th>2</th>\n",
       "      <td>21.01</td>\n",
       "      <td>3.50</td>\n",
       "      <td>1</td>\n",
       "      <td>0</td>\n",
       "      <td>Sun</td>\n",
       "      <td>0</td>\n",
       "      <td>3</td>\n",
       "      <td>7.00</td>\n",
       "      <td>1.17</td>\n",
       "      <td>16.66</td>\n",
       "    </tr>\n",
       "    <tr>\n",
       "      <th>3</th>\n",
       "      <td>23.68</td>\n",
       "      <td>3.31</td>\n",
       "      <td>1</td>\n",
       "      <td>0</td>\n",
       "      <td>Sun</td>\n",
       "      <td>0</td>\n",
       "      <td>2</td>\n",
       "      <td>11.84</td>\n",
       "      <td>1.66</td>\n",
       "      <td>13.98</td>\n",
       "    </tr>\n",
       "    <tr>\n",
       "      <th>4</th>\n",
       "      <td>24.59</td>\n",
       "      <td>3.61</td>\n",
       "      <td>0</td>\n",
       "      <td>0</td>\n",
       "      <td>Sun</td>\n",
       "      <td>0</td>\n",
       "      <td>4</td>\n",
       "      <td>6.15</td>\n",
       "      <td>0.90</td>\n",
       "      <td>14.68</td>\n",
       "    </tr>\n",
       "  </tbody>\n",
       "</table>\n",
       "</div>"
      ],
      "text/plain": [
       "   total_bill  tip  sex  smoker  day  time  size  person_bill  person_tip  \\\n",
       "0       16.99 1.01    0       0  Sun     0     2         8.49        0.50   \n",
       "1       10.34 1.66    1       0  Sun     0     3         3.45        0.55   \n",
       "2       21.01 3.50    1       0  Sun     0     3         7.00        1.17   \n",
       "3       23.68 3.31    1       0  Sun     0     2        11.84        1.66   \n",
       "4       24.59 3.61    0       0  Sun     0     4         6.15        0.90   \n",
       "\n",
       "   waiter_percent  \n",
       "0            5.94  \n",
       "1           16.05  \n",
       "2           16.66  \n",
       "3           13.98  \n",
       "4           14.68  "
      ]
     },
     "execution_count": 410,
     "metadata": {},
     "output_type": "execute_result"
    }
   ],
   "source": [
    "le = LabelEncoder()\n",
    "for i in [\"sex\", \"smoker\", \"time\"]:\n",
    "  df[i] = le.fit_transform(df[i])\n",
    "df.head()"
   ]
  },
  {
   "cell_type": "markdown",
   "metadata": {
    "id": "BgZadenDxlwQ"
   },
   "source": [
    "#### One-Hot Encoding"
   ]
  },
  {
   "cell_type": "code",
   "execution_count": 412,
   "metadata": {
    "colab": {
     "base_uri": "https://localhost:8080/",
     "height": 143
    },
    "executionInfo": {
     "elapsed": 89,
     "status": "ok",
     "timestamp": 1758724073490,
     "user": {
      "displayName": "Hedson Lopes",
      "userId": "00601403561073870653"
     },
     "user_tz": 180
    },
    "id": "wcgv2mv0VHi0",
    "outputId": "0980f33c-b54a-4b69-8026-8ed14c3f6e31"
   },
   "outputs": [
    {
     "data": {
      "text/html": [
       "<div>\n",
       "<style scoped>\n",
       "    .dataframe tbody tr th:only-of-type {\n",
       "        vertical-align: middle;\n",
       "    }\n",
       "\n",
       "    .dataframe tbody tr th {\n",
       "        vertical-align: top;\n",
       "    }\n",
       "\n",
       "    .dataframe thead th {\n",
       "        text-align: right;\n",
       "    }\n",
       "</style>\n",
       "<table border=\"1\" class=\"dataframe\">\n",
       "  <thead>\n",
       "    <tr style=\"text-align: right;\">\n",
       "      <th></th>\n",
       "      <th>total_bill</th>\n",
       "      <th>tip</th>\n",
       "      <th>sex</th>\n",
       "      <th>smoker</th>\n",
       "      <th>time</th>\n",
       "      <th>size</th>\n",
       "      <th>person_bill</th>\n",
       "      <th>person_tip</th>\n",
       "      <th>waiter_percent</th>\n",
       "      <th>day_Thur</th>\n",
       "      <th>day_Fri</th>\n",
       "      <th>day_Sat</th>\n",
       "      <th>day_Sun</th>\n",
       "    </tr>\n",
       "  </thead>\n",
       "  <tbody>\n",
       "    <tr>\n",
       "      <th>0</th>\n",
       "      <td>16.99</td>\n",
       "      <td>1.01</td>\n",
       "      <td>0</td>\n",
       "      <td>0</td>\n",
       "      <td>0</td>\n",
       "      <td>2</td>\n",
       "      <td>8.49</td>\n",
       "      <td>0.50</td>\n",
       "      <td>5.94</td>\n",
       "      <td>0</td>\n",
       "      <td>0</td>\n",
       "      <td>0</td>\n",
       "      <td>1</td>\n",
       "    </tr>\n",
       "    <tr>\n",
       "      <th>1</th>\n",
       "      <td>10.34</td>\n",
       "      <td>1.66</td>\n",
       "      <td>1</td>\n",
       "      <td>0</td>\n",
       "      <td>0</td>\n",
       "      <td>3</td>\n",
       "      <td>3.45</td>\n",
       "      <td>0.55</td>\n",
       "      <td>16.05</td>\n",
       "      <td>0</td>\n",
       "      <td>0</td>\n",
       "      <td>0</td>\n",
       "      <td>1</td>\n",
       "    </tr>\n",
       "    <tr>\n",
       "      <th>2</th>\n",
       "      <td>21.01</td>\n",
       "      <td>3.50</td>\n",
       "      <td>1</td>\n",
       "      <td>0</td>\n",
       "      <td>0</td>\n",
       "      <td>3</td>\n",
       "      <td>7.00</td>\n",
       "      <td>1.17</td>\n",
       "      <td>16.66</td>\n",
       "      <td>0</td>\n",
       "      <td>0</td>\n",
       "      <td>0</td>\n",
       "      <td>1</td>\n",
       "    </tr>\n",
       "  </tbody>\n",
       "</table>\n",
       "</div>"
      ],
      "text/plain": [
       "   total_bill  tip  sex  smoker  time  size  person_bill  person_tip  \\\n",
       "0       16.99 1.01    0       0     0     2         8.49        0.50   \n",
       "1       10.34 1.66    1       0     0     3         3.45        0.55   \n",
       "2       21.01 3.50    1       0     0     3         7.00        1.17   \n",
       "\n",
       "   waiter_percent  day_Thur  day_Fri  day_Sat  day_Sun  \n",
       "0            5.94         0        0        0        1  \n",
       "1           16.05         0        0        0        1  \n",
       "2           16.66         0        0        0        1  "
      ]
     },
     "execution_count": 412,
     "metadata": {},
     "output_type": "execute_result"
    }
   ],
   "source": [
    "df = pd.get_dummies(data=df, columns=[\"day\"], dtype=int)\n",
    "df.head(3)"
   ]
  },
  {
   "cell_type": "markdown",
   "metadata": {
    "id": "tJkp2dDhBQTW"
   },
   "source": [
    "### Teste de normalidade das variáveis.\n",
    "Um valor de p <= 0.05 rejeitamos a hipótese nula,<br>\n",
    "ou seja, os dados não possuem distribuição normal."
   ]
  },
  {
   "cell_type": "code",
   "execution_count": 413,
   "metadata": {
    "colab": {
     "base_uri": "https://localhost:8080/"
    },
    "executionInfo": {
     "elapsed": 52,
     "status": "ok",
     "timestamp": 1758724073515,
     "user": {
      "displayName": "Hedson Lopes",
      "userId": "00601403561073870653"
     },
     "user_tz": 180
    },
    "id": "lntU1D2NBUuq",
    "outputId": "2e9719a8-5052-4915-fcff-6278f33789f0"
   },
   "outputs": [
    {
     "name": "stdout",
     "output_type": "stream",
     "text": [
      "Teste de Normalidade (Shapiro-Wilk):\n",
      "\n",
      "total_bill: stat= 0.9197, p= 0.0000\n",
      "tip: stat= 0.8978, p= 0.0000\n",
      "size: stat= 0.7120, p= 0.0000\n",
      "person_bill: stat= 0.9218, p= 0.0000\n",
      "person_tip: stat= 0.9314, p= 0.0000\n",
      "waiter_percent: stat= 0.7994, p= 0.0000\n"
     ]
    }
   ],
   "source": [
    "print(\"Teste de Normalidade (Shapiro-Wilk):\\n\")\n",
    "for col in numericas.columns:\n",
    "  stat, p = shapiro(numericas[col])\n",
    "  print(f\"{col}: stat= {stat:.4f}, p= {p:.4f}\")"
   ]
  },
  {
   "cell_type": "markdown",
   "metadata": {
    "id": "r_Q554_HC4e9"
   },
   "source": [
    "#### Correlação de Pearson\n",
    "O **Coeficiente de Correlação de Pearson** mede a **força** e a **direção** da relação linear entre duas variáveis quantitativas. Ele assume que as variáveis têm uma distribuição normal.\n",
    "\n",
    "- **Quando usar**: Pearson é utilizado quando as variáveis têm uma relação linear e ambas seguem uma **distribuição normal**.\n",
    "\n",
    "Onde $ r $ varia entre -1 e 1:\n",
    "  - $ r = 1 $: Correlação positiva perfeita\n",
    "  - $ r = -1 $: Correlação negativa perfeita\n",
    "  - $ r = 0 $: Sem correlação linear"
   ]
  },
  {
   "cell_type": "code",
   "execution_count": 414,
   "metadata": {
    "colab": {
     "base_uri": "https://localhost:8080/",
     "height": 394
    },
    "executionInfo": {
     "elapsed": 132,
     "status": "ok",
     "timestamp": 1758724073627,
     "user": {
      "displayName": "Hedson Lopes",
      "userId": "00601403561073870653"
     },
     "user_tz": 180
    },
    "id": "OtG3s-0ODlgC",
    "outputId": "de4cb366-5707-4570-ecdf-378803d5ee13"
   },
   "outputs": [
    {
     "data": {
      "text/html": [
       "<div>\n",
       "<style scoped>\n",
       "    .dataframe tbody tr th:only-of-type {\n",
       "        vertical-align: middle;\n",
       "    }\n",
       "\n",
       "    .dataframe tbody tr th {\n",
       "        vertical-align: top;\n",
       "    }\n",
       "\n",
       "    .dataframe thead th {\n",
       "        text-align: right;\n",
       "    }\n",
       "</style>\n",
       "<table border=\"1\" class=\"dataframe\">\n",
       "  <thead>\n",
       "    <tr style=\"text-align: right;\">\n",
       "      <th></th>\n",
       "      <th>total_bill</th>\n",
       "      <th>tip</th>\n",
       "      <th>sex</th>\n",
       "      <th>smoker</th>\n",
       "      <th>time</th>\n",
       "      <th>size</th>\n",
       "      <th>person_bill</th>\n",
       "      <th>person_tip</th>\n",
       "      <th>waiter_percent</th>\n",
       "      <th>day_Thur</th>\n",
       "      <th>day_Fri</th>\n",
       "      <th>day_Sat</th>\n",
       "      <th>day_Sun</th>\n",
       "    </tr>\n",
       "  </thead>\n",
       "  <tbody>\n",
       "    <tr>\n",
       "      <th>total_bill</th>\n",
       "      <td>1.00</td>\n",
       "      <td>0.68</td>\n",
       "      <td>0.14</td>\n",
       "      <td>0.09</td>\n",
       "      <td>-0.18</td>\n",
       "      <td>0.60</td>\n",
       "      <td>0.65</td>\n",
       "      <td>0.24</td>\n",
       "      <td>-0.34</td>\n",
       "      <td>-0.14</td>\n",
       "      <td>-0.09</td>\n",
       "      <td>0.05</td>\n",
       "      <td>0.12</td>\n",
       "    </tr>\n",
       "    <tr>\n",
       "      <th>tip</th>\n",
       "      <td>0.68</td>\n",
       "      <td>1.00</td>\n",
       "      <td>0.09</td>\n",
       "      <td>0.01</td>\n",
       "      <td>-0.12</td>\n",
       "      <td>0.49</td>\n",
       "      <td>0.35</td>\n",
       "      <td>0.68</td>\n",
       "      <td>0.34</td>\n",
       "      <td>-0.10</td>\n",
       "      <td>-0.06</td>\n",
       "      <td>-0.00</td>\n",
       "      <td>0.13</td>\n",
       "    </tr>\n",
       "    <tr>\n",
       "      <th>sex</th>\n",
       "      <td>0.14</td>\n",
       "      <td>0.09</td>\n",
       "      <td>1.00</td>\n",
       "      <td>0.00</td>\n",
       "      <td>-0.21</td>\n",
       "      <td>0.09</td>\n",
       "      <td>0.11</td>\n",
       "      <td>0.03</td>\n",
       "      <td>-0.07</td>\n",
       "      <td>-0.19</td>\n",
       "      <td>-0.07</td>\n",
       "      <td>0.05</td>\n",
       "      <td>0.17</td>\n",
       "    </tr>\n",
       "    <tr>\n",
       "      <th>smoker</th>\n",
       "      <td>0.09</td>\n",
       "      <td>0.01</td>\n",
       "      <td>0.00</td>\n",
       "      <td>1.00</td>\n",
       "      <td>-0.05</td>\n",
       "      <td>-0.13</td>\n",
       "      <td>0.23</td>\n",
       "      <td>0.14</td>\n",
       "      <td>0.03</td>\n",
       "      <td>-0.13</td>\n",
       "      <td>0.24</td>\n",
       "      <td>0.16</td>\n",
       "      <td>-0.18</td>\n",
       "    </tr>\n",
       "    <tr>\n",
       "      <th>time</th>\n",
       "      <td>-0.18</td>\n",
       "      <td>-0.12</td>\n",
       "      <td>-0.21</td>\n",
       "      <td>-0.05</td>\n",
       "      <td>1.00</td>\n",
       "      <td>-0.10</td>\n",
       "      <td>-0.12</td>\n",
       "      <td>-0.04</td>\n",
       "      <td>0.03</td>\n",
       "      <td>0.92</td>\n",
       "      <td>0.06</td>\n",
       "      <td>-0.46</td>\n",
       "      <td>-0.42</td>\n",
       "    </tr>\n",
       "    <tr>\n",
       "      <th>size</th>\n",
       "      <td>0.60</td>\n",
       "      <td>0.49</td>\n",
       "      <td>0.09</td>\n",
       "      <td>-0.13</td>\n",
       "      <td>-0.10</td>\n",
       "      <td>1.00</td>\n",
       "      <td>-0.18</td>\n",
       "      <td>-0.25</td>\n",
       "      <td>-0.14</td>\n",
       "      <td>-0.07</td>\n",
       "      <td>-0.14</td>\n",
       "      <td>-0.04</td>\n",
       "      <td>0.19</td>\n",
       "    </tr>\n",
       "    <tr>\n",
       "      <th>person_bill</th>\n",
       "      <td>0.65</td>\n",
       "      <td>0.35</td>\n",
       "      <td>0.11</td>\n",
       "      <td>0.23</td>\n",
       "      <td>-0.12</td>\n",
       "      <td>-0.18</td>\n",
       "      <td>1.00</td>\n",
       "      <td>0.54</td>\n",
       "      <td>-0.31</td>\n",
       "      <td>-0.09</td>\n",
       "      <td>0.02</td>\n",
       "      <td>0.08</td>\n",
       "      <td>-0.01</td>\n",
       "    </tr>\n",
       "    <tr>\n",
       "      <th>person_tip</th>\n",
       "      <td>0.24</td>\n",
       "      <td>0.68</td>\n",
       "      <td>0.03</td>\n",
       "      <td>0.14</td>\n",
       "      <td>-0.04</td>\n",
       "      <td>-0.25</td>\n",
       "      <td>0.54</td>\n",
       "      <td>1.00</td>\n",
       "      <td>0.53</td>\n",
       "      <td>-0.04</td>\n",
       "      <td>0.07</td>\n",
       "      <td>-0.00</td>\n",
       "      <td>0.00</td>\n",
       "    </tr>\n",
       "    <tr>\n",
       "      <th>waiter_percent</th>\n",
       "      <td>-0.34</td>\n",
       "      <td>0.34</td>\n",
       "      <td>-0.07</td>\n",
       "      <td>0.03</td>\n",
       "      <td>0.03</td>\n",
       "      <td>-0.14</td>\n",
       "      <td>-0.31</td>\n",
       "      <td>0.53</td>\n",
       "      <td>1.00</td>\n",
       "      <td>0.00</td>\n",
       "      <td>0.04</td>\n",
       "      <td>-0.09</td>\n",
       "      <td>0.07</td>\n",
       "    </tr>\n",
       "    <tr>\n",
       "      <th>day_Thur</th>\n",
       "      <td>-0.14</td>\n",
       "      <td>-0.10</td>\n",
       "      <td>-0.19</td>\n",
       "      <td>-0.13</td>\n",
       "      <td>0.92</td>\n",
       "      <td>-0.07</td>\n",
       "      <td>-0.09</td>\n",
       "      <td>-0.04</td>\n",
       "      <td>0.00</td>\n",
       "      <td>1.00</td>\n",
       "      <td>-0.17</td>\n",
       "      <td>-0.43</td>\n",
       "      <td>-0.39</td>\n",
       "    </tr>\n",
       "    <tr>\n",
       "      <th>day_Fri</th>\n",
       "      <td>-0.09</td>\n",
       "      <td>-0.06</td>\n",
       "      <td>-0.07</td>\n",
       "      <td>0.24</td>\n",
       "      <td>0.06</td>\n",
       "      <td>-0.14</td>\n",
       "      <td>0.02</td>\n",
       "      <td>0.07</td>\n",
       "      <td>0.04</td>\n",
       "      <td>-0.17</td>\n",
       "      <td>1.00</td>\n",
       "      <td>-0.22</td>\n",
       "      <td>-0.20</td>\n",
       "    </tr>\n",
       "    <tr>\n",
       "      <th>day_Sat</th>\n",
       "      <td>0.05</td>\n",
       "      <td>-0.00</td>\n",
       "      <td>0.05</td>\n",
       "      <td>0.16</td>\n",
       "      <td>-0.46</td>\n",
       "      <td>-0.04</td>\n",
       "      <td>0.08</td>\n",
       "      <td>-0.00</td>\n",
       "      <td>-0.09</td>\n",
       "      <td>-0.43</td>\n",
       "      <td>-0.22</td>\n",
       "      <td>1.00</td>\n",
       "      <td>-0.50</td>\n",
       "    </tr>\n",
       "    <tr>\n",
       "      <th>day_Sun</th>\n",
       "      <td>0.12</td>\n",
       "      <td>0.13</td>\n",
       "      <td>0.17</td>\n",
       "      <td>-0.18</td>\n",
       "      <td>-0.42</td>\n",
       "      <td>0.19</td>\n",
       "      <td>-0.01</td>\n",
       "      <td>0.00</td>\n",
       "      <td>0.07</td>\n",
       "      <td>-0.39</td>\n",
       "      <td>-0.20</td>\n",
       "      <td>-0.50</td>\n",
       "      <td>1.00</td>\n",
       "    </tr>\n",
       "  </tbody>\n",
       "</table>\n",
       "</div>"
      ],
      "text/plain": [
       "                total_bill   tip   sex  smoker  time  size  person_bill  \\\n",
       "total_bill            1.00  0.68  0.14    0.09 -0.18  0.60         0.65   \n",
       "tip                   0.68  1.00  0.09    0.01 -0.12  0.49         0.35   \n",
       "sex                   0.14  0.09  1.00    0.00 -0.21  0.09         0.11   \n",
       "smoker                0.09  0.01  0.00    1.00 -0.05 -0.13         0.23   \n",
       "time                 -0.18 -0.12 -0.21   -0.05  1.00 -0.10        -0.12   \n",
       "size                  0.60  0.49  0.09   -0.13 -0.10  1.00        -0.18   \n",
       "person_bill           0.65  0.35  0.11    0.23 -0.12 -0.18         1.00   \n",
       "person_tip            0.24  0.68  0.03    0.14 -0.04 -0.25         0.54   \n",
       "waiter_percent       -0.34  0.34 -0.07    0.03  0.03 -0.14        -0.31   \n",
       "day_Thur             -0.14 -0.10 -0.19   -0.13  0.92 -0.07        -0.09   \n",
       "day_Fri              -0.09 -0.06 -0.07    0.24  0.06 -0.14         0.02   \n",
       "day_Sat               0.05 -0.00  0.05    0.16 -0.46 -0.04         0.08   \n",
       "day_Sun               0.12  0.13  0.17   -0.18 -0.42  0.19        -0.01   \n",
       "\n",
       "                person_tip  waiter_percent  day_Thur  day_Fri  day_Sat  \\\n",
       "total_bill            0.24           -0.34     -0.14    -0.09     0.05   \n",
       "tip                   0.68            0.34     -0.10    -0.06    -0.00   \n",
       "sex                   0.03           -0.07     -0.19    -0.07     0.05   \n",
       "smoker                0.14            0.03     -0.13     0.24     0.16   \n",
       "time                 -0.04            0.03      0.92     0.06    -0.46   \n",
       "size                 -0.25           -0.14     -0.07    -0.14    -0.04   \n",
       "person_bill           0.54           -0.31     -0.09     0.02     0.08   \n",
       "person_tip            1.00            0.53     -0.04     0.07    -0.00   \n",
       "waiter_percent        0.53            1.00      0.00     0.04    -0.09   \n",
       "day_Thur             -0.04            0.00      1.00    -0.17    -0.43   \n",
       "day_Fri               0.07            0.04     -0.17     1.00    -0.22   \n",
       "day_Sat              -0.00           -0.09     -0.43    -0.22     1.00   \n",
       "day_Sun               0.00            0.07     -0.39    -0.20    -0.50   \n",
       "\n",
       "                day_Sun  \n",
       "total_bill         0.12  \n",
       "tip                0.13  \n",
       "sex                0.17  \n",
       "smoker            -0.18  \n",
       "time              -0.42  \n",
       "size               0.19  \n",
       "person_bill       -0.01  \n",
       "person_tip         0.00  \n",
       "waiter_percent     0.07  \n",
       "day_Thur          -0.39  \n",
       "day_Fri           -0.20  \n",
       "day_Sat           -0.50  \n",
       "day_Sun            1.00  "
      ]
     },
     "execution_count": 414,
     "metadata": {},
     "output_type": "execute_result"
    }
   ],
   "source": [
    "corr_pearson = df.corr(method=\"pearson\")\n",
    "corr_pearson"
   ]
  },
  {
   "cell_type": "markdown",
   "metadata": {
    "id": "fCreXEZnKiFj"
   },
   "source": [
    "#### Correlação de Spearman\n",
    "O **Coeficiente de Spearman** mede a relação **monotônica** entre duas variáveis, o que significa que, à medida que uma variável aumenta, a outra também aumenta ou diminui, mas não necessariamente de forma linear.\n",
    "\n",
    "- **Quando usar**: Use Spearman quando os dados não forem normalmente distribuídos ou se a relação entre as variáveis for **monotônica** (não linear).\n",
    "- Baseia-se no ranking das variáveis."
   ]
  },
  {
   "cell_type": "code",
   "execution_count": 415,
   "metadata": {
    "colab": {
     "base_uri": "https://localhost:8080/",
     "height": 394
    },
    "executionInfo": {
     "elapsed": 120,
     "status": "ok",
     "timestamp": 1758724073764,
     "user": {
      "displayName": "Hedson Lopes",
      "userId": "00601403561073870653"
     },
     "user_tz": 180
    },
    "id": "40mHiCXVKsv8",
    "outputId": "7539044b-03df-4b3b-918e-65c8db0cb0c6"
   },
   "outputs": [
    {
     "data": {
      "text/html": [
       "<div>\n",
       "<style scoped>\n",
       "    .dataframe tbody tr th:only-of-type {\n",
       "        vertical-align: middle;\n",
       "    }\n",
       "\n",
       "    .dataframe tbody tr th {\n",
       "        vertical-align: top;\n",
       "    }\n",
       "\n",
       "    .dataframe thead th {\n",
       "        text-align: right;\n",
       "    }\n",
       "</style>\n",
       "<table border=\"1\" class=\"dataframe\">\n",
       "  <thead>\n",
       "    <tr style=\"text-align: right;\">\n",
       "      <th></th>\n",
       "      <th>total_bill</th>\n",
       "      <th>tip</th>\n",
       "      <th>sex</th>\n",
       "      <th>smoker</th>\n",
       "      <th>time</th>\n",
       "      <th>size</th>\n",
       "      <th>person_bill</th>\n",
       "      <th>person_tip</th>\n",
       "      <th>waiter_percent</th>\n",
       "      <th>day_Thur</th>\n",
       "      <th>day_Fri</th>\n",
       "      <th>day_Sat</th>\n",
       "      <th>day_Sun</th>\n",
       "    </tr>\n",
       "  </thead>\n",
       "  <tbody>\n",
       "    <tr>\n",
       "      <th>total_bill</th>\n",
       "      <td>1.00</td>\n",
       "      <td>0.68</td>\n",
       "      <td>0.15</td>\n",
       "      <td>0.06</td>\n",
       "      <td>-0.21</td>\n",
       "      <td>0.60</td>\n",
       "      <td>0.63</td>\n",
       "      <td>0.27</td>\n",
       "      <td>-0.32</td>\n",
       "      <td>-0.15</td>\n",
       "      <td>-0.10</td>\n",
       "      <td>0.05</td>\n",
       "      <td>0.15</td>\n",
       "    </tr>\n",
       "    <tr>\n",
       "      <th>tip</th>\n",
       "      <td>0.68</td>\n",
       "      <td>1.00</td>\n",
       "      <td>0.06</td>\n",
       "      <td>0.02</td>\n",
       "      <td>-0.14</td>\n",
       "      <td>0.47</td>\n",
       "      <td>0.40</td>\n",
       "      <td>0.70</td>\n",
       "      <td>0.40</td>\n",
       "      <td>-0.11</td>\n",
       "      <td>-0.04</td>\n",
       "      <td>-0.05</td>\n",
       "      <td>0.18</td>\n",
       "    </tr>\n",
       "    <tr>\n",
       "      <th>sex</th>\n",
       "      <td>0.15</td>\n",
       "      <td>0.06</td>\n",
       "      <td>1.00</td>\n",
       "      <td>0.00</td>\n",
       "      <td>-0.21</td>\n",
       "      <td>0.10</td>\n",
       "      <td>0.09</td>\n",
       "      <td>-0.01</td>\n",
       "      <td>-0.10</td>\n",
       "      <td>-0.19</td>\n",
       "      <td>-0.07</td>\n",
       "      <td>0.05</td>\n",
       "      <td>0.17</td>\n",
       "    </tr>\n",
       "    <tr>\n",
       "      <th>smoker</th>\n",
       "      <td>0.06</td>\n",
       "      <td>0.02</td>\n",
       "      <td>0.00</td>\n",
       "      <td>1.00</td>\n",
       "      <td>-0.05</td>\n",
       "      <td>-0.13</td>\n",
       "      <td>0.17</td>\n",
       "      <td>0.11</td>\n",
       "      <td>-0.04</td>\n",
       "      <td>-0.13</td>\n",
       "      <td>0.24</td>\n",
       "      <td>0.16</td>\n",
       "      <td>-0.18</td>\n",
       "    </tr>\n",
       "    <tr>\n",
       "      <th>time</th>\n",
       "      <td>-0.21</td>\n",
       "      <td>-0.14</td>\n",
       "      <td>-0.21</td>\n",
       "      <td>-0.05</td>\n",
       "      <td>1.00</td>\n",
       "      <td>-0.16</td>\n",
       "      <td>-0.11</td>\n",
       "      <td>-0.04</td>\n",
       "      <td>0.08</td>\n",
       "      <td>0.92</td>\n",
       "      <td>0.06</td>\n",
       "      <td>-0.46</td>\n",
       "      <td>-0.42</td>\n",
       "    </tr>\n",
       "    <tr>\n",
       "      <th>size</th>\n",
       "      <td>0.60</td>\n",
       "      <td>0.47</td>\n",
       "      <td>0.10</td>\n",
       "      <td>-0.13</td>\n",
       "      <td>-0.16</td>\n",
       "      <td>1.00</td>\n",
       "      <td>-0.18</td>\n",
       "      <td>-0.26</td>\n",
       "      <td>-0.15</td>\n",
       "      <td>-0.14</td>\n",
       "      <td>-0.15</td>\n",
       "      <td>0.00</td>\n",
       "      <td>0.21</td>\n",
       "    </tr>\n",
       "    <tr>\n",
       "      <th>person_bill</th>\n",
       "      <td>0.63</td>\n",
       "      <td>0.40</td>\n",
       "      <td>0.09</td>\n",
       "      <td>0.17</td>\n",
       "      <td>-0.11</td>\n",
       "      <td>-0.18</td>\n",
       "      <td>1.00</td>\n",
       "      <td>0.61</td>\n",
       "      <td>-0.24</td>\n",
       "      <td>-0.07</td>\n",
       "      <td>0.03</td>\n",
       "      <td>0.08</td>\n",
       "      <td>-0.03</td>\n",
       "    </tr>\n",
       "    <tr>\n",
       "      <th>person_tip</th>\n",
       "      <td>0.27</td>\n",
       "      <td>0.70</td>\n",
       "      <td>-0.01</td>\n",
       "      <td>0.11</td>\n",
       "      <td>-0.04</td>\n",
       "      <td>-0.26</td>\n",
       "      <td>0.61</td>\n",
       "      <td>1.00</td>\n",
       "      <td>0.55</td>\n",
       "      <td>-0.04</td>\n",
       "      <td>0.09</td>\n",
       "      <td>-0.04</td>\n",
       "      <td>0.03</td>\n",
       "    </tr>\n",
       "    <tr>\n",
       "      <th>waiter_percent</th>\n",
       "      <td>-0.32</td>\n",
       "      <td>0.40</td>\n",
       "      <td>-0.10</td>\n",
       "      <td>-0.04</td>\n",
       "      <td>0.08</td>\n",
       "      <td>-0.15</td>\n",
       "      <td>-0.24</td>\n",
       "      <td>0.55</td>\n",
       "      <td>1.00</td>\n",
       "      <td>0.04</td>\n",
       "      <td>0.05</td>\n",
       "      <td>-0.08</td>\n",
       "      <td>0.01</td>\n",
       "    </tr>\n",
       "    <tr>\n",
       "      <th>day_Thur</th>\n",
       "      <td>-0.15</td>\n",
       "      <td>-0.11</td>\n",
       "      <td>-0.19</td>\n",
       "      <td>-0.13</td>\n",
       "      <td>0.92</td>\n",
       "      <td>-0.14</td>\n",
       "      <td>-0.07</td>\n",
       "      <td>-0.04</td>\n",
       "      <td>0.04</td>\n",
       "      <td>1.00</td>\n",
       "      <td>-0.17</td>\n",
       "      <td>-0.43</td>\n",
       "      <td>-0.39</td>\n",
       "    </tr>\n",
       "    <tr>\n",
       "      <th>day_Fri</th>\n",
       "      <td>-0.10</td>\n",
       "      <td>-0.04</td>\n",
       "      <td>-0.07</td>\n",
       "      <td>0.24</td>\n",
       "      <td>0.06</td>\n",
       "      <td>-0.15</td>\n",
       "      <td>0.03</td>\n",
       "      <td>0.09</td>\n",
       "      <td>0.05</td>\n",
       "      <td>-0.17</td>\n",
       "      <td>1.00</td>\n",
       "      <td>-0.22</td>\n",
       "      <td>-0.20</td>\n",
       "    </tr>\n",
       "    <tr>\n",
       "      <th>day_Sat</th>\n",
       "      <td>0.05</td>\n",
       "      <td>-0.05</td>\n",
       "      <td>0.05</td>\n",
       "      <td>0.16</td>\n",
       "      <td>-0.46</td>\n",
       "      <td>0.00</td>\n",
       "      <td>0.08</td>\n",
       "      <td>-0.04</td>\n",
       "      <td>-0.08</td>\n",
       "      <td>-0.43</td>\n",
       "      <td>-0.22</td>\n",
       "      <td>1.00</td>\n",
       "      <td>-0.50</td>\n",
       "    </tr>\n",
       "    <tr>\n",
       "      <th>day_Sun</th>\n",
       "      <td>0.15</td>\n",
       "      <td>0.18</td>\n",
       "      <td>0.17</td>\n",
       "      <td>-0.18</td>\n",
       "      <td>-0.42</td>\n",
       "      <td>0.21</td>\n",
       "      <td>-0.03</td>\n",
       "      <td>0.03</td>\n",
       "      <td>0.01</td>\n",
       "      <td>-0.39</td>\n",
       "      <td>-0.20</td>\n",
       "      <td>-0.50</td>\n",
       "      <td>1.00</td>\n",
       "    </tr>\n",
       "  </tbody>\n",
       "</table>\n",
       "</div>"
      ],
      "text/plain": [
       "                total_bill   tip   sex  smoker  time  size  person_bill  \\\n",
       "total_bill            1.00  0.68  0.15    0.06 -0.21  0.60         0.63   \n",
       "tip                   0.68  1.00  0.06    0.02 -0.14  0.47         0.40   \n",
       "sex                   0.15  0.06  1.00    0.00 -0.21  0.10         0.09   \n",
       "smoker                0.06  0.02  0.00    1.00 -0.05 -0.13         0.17   \n",
       "time                 -0.21 -0.14 -0.21   -0.05  1.00 -0.16        -0.11   \n",
       "size                  0.60  0.47  0.10   -0.13 -0.16  1.00        -0.18   \n",
       "person_bill           0.63  0.40  0.09    0.17 -0.11 -0.18         1.00   \n",
       "person_tip            0.27  0.70 -0.01    0.11 -0.04 -0.26         0.61   \n",
       "waiter_percent       -0.32  0.40 -0.10   -0.04  0.08 -0.15        -0.24   \n",
       "day_Thur             -0.15 -0.11 -0.19   -0.13  0.92 -0.14        -0.07   \n",
       "day_Fri              -0.10 -0.04 -0.07    0.24  0.06 -0.15         0.03   \n",
       "day_Sat               0.05 -0.05  0.05    0.16 -0.46  0.00         0.08   \n",
       "day_Sun               0.15  0.18  0.17   -0.18 -0.42  0.21        -0.03   \n",
       "\n",
       "                person_tip  waiter_percent  day_Thur  day_Fri  day_Sat  \\\n",
       "total_bill            0.27           -0.32     -0.15    -0.10     0.05   \n",
       "tip                   0.70            0.40     -0.11    -0.04    -0.05   \n",
       "sex                  -0.01           -0.10     -0.19    -0.07     0.05   \n",
       "smoker                0.11           -0.04     -0.13     0.24     0.16   \n",
       "time                 -0.04            0.08      0.92     0.06    -0.46   \n",
       "size                 -0.26           -0.15     -0.14    -0.15     0.00   \n",
       "person_bill           0.61           -0.24     -0.07     0.03     0.08   \n",
       "person_tip            1.00            0.55     -0.04     0.09    -0.04   \n",
       "waiter_percent        0.55            1.00      0.04     0.05    -0.08   \n",
       "day_Thur             -0.04            0.04      1.00    -0.17    -0.43   \n",
       "day_Fri               0.09            0.05     -0.17     1.00    -0.22   \n",
       "day_Sat              -0.04           -0.08     -0.43    -0.22     1.00   \n",
       "day_Sun               0.03            0.01     -0.39    -0.20    -0.50   \n",
       "\n",
       "                day_Sun  \n",
       "total_bill         0.15  \n",
       "tip                0.18  \n",
       "sex                0.17  \n",
       "smoker            -0.18  \n",
       "time              -0.42  \n",
       "size               0.21  \n",
       "person_bill       -0.03  \n",
       "person_tip         0.03  \n",
       "waiter_percent     0.01  \n",
       "day_Thur          -0.39  \n",
       "day_Fri           -0.20  \n",
       "day_Sat           -0.50  \n",
       "day_Sun            1.00  "
      ]
     },
     "execution_count": 415,
     "metadata": {},
     "output_type": "execute_result"
    }
   ],
   "source": [
    "corr_spearman = df.corr(method='spearman')\n",
    "corr_spearman"
   ]
  },
  {
   "cell_type": "markdown",
   "metadata": {
    "id": "AOV0FwtQLSCc"
   },
   "source": [
    "#### Correlação de Kendall\n",
    "O **Coeficiente de Kendall** é outra medida não paramétrica que mede a associação entre duas variáveis. Ele leva em consideração a concordância entre pares de observações.\n",
    "\n",
    "- **Quando usar**: Utilize Kendall quando o número de dados é pequeno, ou quando há muitos empates nos dados.\n",
    "- Baseia-se na concordância e discordância de pares ordenados."
   ]
  },
  {
   "cell_type": "code",
   "execution_count": 416,
   "metadata": {
    "colab": {
     "base_uri": "https://localhost:8080/",
     "height": 394
    },
    "executionInfo": {
     "elapsed": 129,
     "status": "ok",
     "timestamp": 1758724073915,
     "user": {
      "displayName": "Hedson Lopes",
      "userId": "00601403561073870653"
     },
     "user_tz": 180
    },
    "id": "WFVmDCOlLdak",
    "outputId": "591e33b7-9448-46bd-afa6-ea3f00de6143"
   },
   "outputs": [
    {
     "data": {
      "text/html": [
       "<div>\n",
       "<style scoped>\n",
       "    .dataframe tbody tr th:only-of-type {\n",
       "        vertical-align: middle;\n",
       "    }\n",
       "\n",
       "    .dataframe tbody tr th {\n",
       "        vertical-align: top;\n",
       "    }\n",
       "\n",
       "    .dataframe thead th {\n",
       "        text-align: right;\n",
       "    }\n",
       "</style>\n",
       "<table border=\"1\" class=\"dataframe\">\n",
       "  <thead>\n",
       "    <tr style=\"text-align: right;\">\n",
       "      <th></th>\n",
       "      <th>total_bill</th>\n",
       "      <th>tip</th>\n",
       "      <th>sex</th>\n",
       "      <th>smoker</th>\n",
       "      <th>time</th>\n",
       "      <th>size</th>\n",
       "      <th>person_bill</th>\n",
       "      <th>person_tip</th>\n",
       "      <th>waiter_percent</th>\n",
       "      <th>day_Thur</th>\n",
       "      <th>day_Fri</th>\n",
       "      <th>day_Sat</th>\n",
       "      <th>day_Sun</th>\n",
       "    </tr>\n",
       "  </thead>\n",
       "  <tbody>\n",
       "    <tr>\n",
       "      <th>total_bill</th>\n",
       "      <td>1.00</td>\n",
       "      <td>0.52</td>\n",
       "      <td>0.12</td>\n",
       "      <td>0.05</td>\n",
       "      <td>-0.17</td>\n",
       "      <td>0.48</td>\n",
       "      <td>0.54</td>\n",
       "      <td>0.19</td>\n",
       "      <td>-0.22</td>\n",
       "      <td>-0.12</td>\n",
       "      <td>-0.08</td>\n",
       "      <td>0.04</td>\n",
       "      <td>0.12</td>\n",
       "    </tr>\n",
       "    <tr>\n",
       "      <th>tip</th>\n",
       "      <td>0.52</td>\n",
       "      <td>1.00</td>\n",
       "      <td>0.05</td>\n",
       "      <td>0.01</td>\n",
       "      <td>-0.12</td>\n",
       "      <td>0.38</td>\n",
       "      <td>0.28</td>\n",
       "      <td>0.58</td>\n",
       "      <td>0.28</td>\n",
       "      <td>-0.09</td>\n",
       "      <td>-0.03</td>\n",
       "      <td>-0.04</td>\n",
       "      <td>0.15</td>\n",
       "    </tr>\n",
       "    <tr>\n",
       "      <th>sex</th>\n",
       "      <td>0.12</td>\n",
       "      <td>0.05</td>\n",
       "      <td>1.00</td>\n",
       "      <td>0.00</td>\n",
       "      <td>-0.21</td>\n",
       "      <td>0.09</td>\n",
       "      <td>0.07</td>\n",
       "      <td>-0.01</td>\n",
       "      <td>-0.08</td>\n",
       "      <td>-0.19</td>\n",
       "      <td>-0.07</td>\n",
       "      <td>0.05</td>\n",
       "      <td>0.17</td>\n",
       "    </tr>\n",
       "    <tr>\n",
       "      <th>smoker</th>\n",
       "      <td>0.05</td>\n",
       "      <td>0.01</td>\n",
       "      <td>0.00</td>\n",
       "      <td>1.00</td>\n",
       "      <td>-0.05</td>\n",
       "      <td>-0.12</td>\n",
       "      <td>0.14</td>\n",
       "      <td>0.09</td>\n",
       "      <td>-0.03</td>\n",
       "      <td>-0.13</td>\n",
       "      <td>0.24</td>\n",
       "      <td>0.16</td>\n",
       "      <td>-0.18</td>\n",
       "    </tr>\n",
       "    <tr>\n",
       "      <th>time</th>\n",
       "      <td>-0.17</td>\n",
       "      <td>-0.12</td>\n",
       "      <td>-0.21</td>\n",
       "      <td>-0.05</td>\n",
       "      <td>1.00</td>\n",
       "      <td>-0.16</td>\n",
       "      <td>-0.09</td>\n",
       "      <td>-0.03</td>\n",
       "      <td>0.06</td>\n",
       "      <td>0.92</td>\n",
       "      <td>0.06</td>\n",
       "      <td>-0.46</td>\n",
       "      <td>-0.42</td>\n",
       "    </tr>\n",
       "    <tr>\n",
       "      <th>size</th>\n",
       "      <td>0.48</td>\n",
       "      <td>0.38</td>\n",
       "      <td>0.09</td>\n",
       "      <td>-0.12</td>\n",
       "      <td>-0.16</td>\n",
       "      <td>1.00</td>\n",
       "      <td>-0.14</td>\n",
       "      <td>-0.21</td>\n",
       "      <td>-0.12</td>\n",
       "      <td>-0.13</td>\n",
       "      <td>-0.15</td>\n",
       "      <td>0.00</td>\n",
       "      <td>0.20</td>\n",
       "    </tr>\n",
       "    <tr>\n",
       "      <th>person_bill</th>\n",
       "      <td>0.54</td>\n",
       "      <td>0.28</td>\n",
       "      <td>0.07</td>\n",
       "      <td>0.14</td>\n",
       "      <td>-0.09</td>\n",
       "      <td>-0.14</td>\n",
       "      <td>1.00</td>\n",
       "      <td>0.45</td>\n",
       "      <td>-0.17</td>\n",
       "      <td>-0.06</td>\n",
       "      <td>0.02</td>\n",
       "      <td>0.07</td>\n",
       "      <td>-0.02</td>\n",
       "    </tr>\n",
       "    <tr>\n",
       "      <th>person_tip</th>\n",
       "      <td>0.19</td>\n",
       "      <td>0.58</td>\n",
       "      <td>-0.01</td>\n",
       "      <td>0.09</td>\n",
       "      <td>-0.03</td>\n",
       "      <td>-0.21</td>\n",
       "      <td>0.45</td>\n",
       "      <td>1.00</td>\n",
       "      <td>0.40</td>\n",
       "      <td>-0.04</td>\n",
       "      <td>0.07</td>\n",
       "      <td>-0.03</td>\n",
       "      <td>0.02</td>\n",
       "    </tr>\n",
       "    <tr>\n",
       "      <th>waiter_percent</th>\n",
       "      <td>-0.22</td>\n",
       "      <td>0.28</td>\n",
       "      <td>-0.08</td>\n",
       "      <td>-0.03</td>\n",
       "      <td>0.06</td>\n",
       "      <td>-0.12</td>\n",
       "      <td>-0.17</td>\n",
       "      <td>0.40</td>\n",
       "      <td>1.00</td>\n",
       "      <td>0.03</td>\n",
       "      <td>0.04</td>\n",
       "      <td>-0.06</td>\n",
       "      <td>0.01</td>\n",
       "    </tr>\n",
       "    <tr>\n",
       "      <th>day_Thur</th>\n",
       "      <td>-0.12</td>\n",
       "      <td>-0.09</td>\n",
       "      <td>-0.19</td>\n",
       "      <td>-0.13</td>\n",
       "      <td>0.92</td>\n",
       "      <td>-0.13</td>\n",
       "      <td>-0.06</td>\n",
       "      <td>-0.04</td>\n",
       "      <td>0.03</td>\n",
       "      <td>1.00</td>\n",
       "      <td>-0.17</td>\n",
       "      <td>-0.43</td>\n",
       "      <td>-0.39</td>\n",
       "    </tr>\n",
       "    <tr>\n",
       "      <th>day_Fri</th>\n",
       "      <td>-0.08</td>\n",
       "      <td>-0.03</td>\n",
       "      <td>-0.07</td>\n",
       "      <td>0.24</td>\n",
       "      <td>0.06</td>\n",
       "      <td>-0.15</td>\n",
       "      <td>0.02</td>\n",
       "      <td>0.07</td>\n",
       "      <td>0.04</td>\n",
       "      <td>-0.17</td>\n",
       "      <td>1.00</td>\n",
       "      <td>-0.22</td>\n",
       "      <td>-0.20</td>\n",
       "    </tr>\n",
       "    <tr>\n",
       "      <th>day_Sat</th>\n",
       "      <td>0.04</td>\n",
       "      <td>-0.04</td>\n",
       "      <td>0.05</td>\n",
       "      <td>0.16</td>\n",
       "      <td>-0.46</td>\n",
       "      <td>0.00</td>\n",
       "      <td>0.07</td>\n",
       "      <td>-0.03</td>\n",
       "      <td>-0.06</td>\n",
       "      <td>-0.43</td>\n",
       "      <td>-0.22</td>\n",
       "      <td>1.00</td>\n",
       "      <td>-0.50</td>\n",
       "    </tr>\n",
       "    <tr>\n",
       "      <th>day_Sun</th>\n",
       "      <td>0.12</td>\n",
       "      <td>0.15</td>\n",
       "      <td>0.17</td>\n",
       "      <td>-0.18</td>\n",
       "      <td>-0.42</td>\n",
       "      <td>0.20</td>\n",
       "      <td>-0.02</td>\n",
       "      <td>0.02</td>\n",
       "      <td>0.01</td>\n",
       "      <td>-0.39</td>\n",
       "      <td>-0.20</td>\n",
       "      <td>-0.50</td>\n",
       "      <td>1.00</td>\n",
       "    </tr>\n",
       "  </tbody>\n",
       "</table>\n",
       "</div>"
      ],
      "text/plain": [
       "                total_bill   tip   sex  smoker  time  size  person_bill  \\\n",
       "total_bill            1.00  0.52  0.12    0.05 -0.17  0.48         0.54   \n",
       "tip                   0.52  1.00  0.05    0.01 -0.12  0.38         0.28   \n",
       "sex                   0.12  0.05  1.00    0.00 -0.21  0.09         0.07   \n",
       "smoker                0.05  0.01  0.00    1.00 -0.05 -0.12         0.14   \n",
       "time                 -0.17 -0.12 -0.21   -0.05  1.00 -0.16        -0.09   \n",
       "size                  0.48  0.38  0.09   -0.12 -0.16  1.00        -0.14   \n",
       "person_bill           0.54  0.28  0.07    0.14 -0.09 -0.14         1.00   \n",
       "person_tip            0.19  0.58 -0.01    0.09 -0.03 -0.21         0.45   \n",
       "waiter_percent       -0.22  0.28 -0.08   -0.03  0.06 -0.12        -0.17   \n",
       "day_Thur             -0.12 -0.09 -0.19   -0.13  0.92 -0.13        -0.06   \n",
       "day_Fri              -0.08 -0.03 -0.07    0.24  0.06 -0.15         0.02   \n",
       "day_Sat               0.04 -0.04  0.05    0.16 -0.46  0.00         0.07   \n",
       "day_Sun               0.12  0.15  0.17   -0.18 -0.42  0.20        -0.02   \n",
       "\n",
       "                person_tip  waiter_percent  day_Thur  day_Fri  day_Sat  \\\n",
       "total_bill            0.19           -0.22     -0.12    -0.08     0.04   \n",
       "tip                   0.58            0.28     -0.09    -0.03    -0.04   \n",
       "sex                  -0.01           -0.08     -0.19    -0.07     0.05   \n",
       "smoker                0.09           -0.03     -0.13     0.24     0.16   \n",
       "time                 -0.03            0.06      0.92     0.06    -0.46   \n",
       "size                 -0.21           -0.12     -0.13    -0.15     0.00   \n",
       "person_bill           0.45           -0.17     -0.06     0.02     0.07   \n",
       "person_tip            1.00            0.40     -0.04     0.07    -0.03   \n",
       "waiter_percent        0.40            1.00      0.03     0.04    -0.06   \n",
       "day_Thur             -0.04            0.03      1.00    -0.17    -0.43   \n",
       "day_Fri               0.07            0.04     -0.17     1.00    -0.22   \n",
       "day_Sat              -0.03           -0.06     -0.43    -0.22     1.00   \n",
       "day_Sun               0.02            0.01     -0.39    -0.20    -0.50   \n",
       "\n",
       "                day_Sun  \n",
       "total_bill         0.12  \n",
       "tip                0.15  \n",
       "sex                0.17  \n",
       "smoker            -0.18  \n",
       "time              -0.42  \n",
       "size               0.20  \n",
       "person_bill       -0.02  \n",
       "person_tip         0.02  \n",
       "waiter_percent     0.01  \n",
       "day_Thur          -0.39  \n",
       "day_Fri           -0.20  \n",
       "day_Sat           -0.50  \n",
       "day_Sun            1.00  "
      ]
     },
     "execution_count": 416,
     "metadata": {},
     "output_type": "execute_result"
    }
   ],
   "source": [
    "corr_kendall = df.corr(method='kendall')\n",
    "corr_kendall"
   ]
  },
  {
   "cell_type": "markdown",
   "metadata": {
    "id": "X_JjbiGzMHWn"
   },
   "source": [
    "### Teste de Hipótese para Correlação entre total_bill e tip\n",
    "\n",
    "- H0: rho = 0 (sem correlação)\n",
    "- H1: rho ≠ 0"
   ]
  },
  {
   "cell_type": "code",
   "execution_count": 417,
   "metadata": {
    "colab": {
     "base_uri": "https://localhost:8080/"
    },
    "executionInfo": {
     "elapsed": 108,
     "status": "ok",
     "timestamp": 1758724073924,
     "user": {
      "displayName": "Hedson Lopes",
      "userId": "00601403561073870653"
     },
     "user_tz": 180
    },
    "id": "MW6A6zfNMNO4",
    "outputId": "f252a3d8-4168-4e5f-b0ef-ea0a77fccec9"
   },
   "outputs": [
    {
     "name": "stdout",
     "output_type": "stream",
     "text": [
      "\n",
      "Teste de Hipótese - Correlação entre total_bill e tip\n",
      "Pearson r = 0.6757, p = 0.0000\n",
      "Spearman r = 0.6790, p = 0.0000\n",
      "Kendall tau = 0.5172, p = 0.0000\n",
      "\n",
      "Um p-valor <= 0,05 indica uma Correlação significativa\n"
     ]
    }
   ],
   "source": [
    "print(\"\\nTeste de Hipótese - Correlação entre total_bill e tip\")\n",
    "\n",
    "r, p_valor = pearsonr(df[\"total_bill\"], df[\"tip\"])\n",
    "print(f\"Pearson r = {r:.4f}, p = {p_valor:.4f}\")\n",
    "\n",
    "r, p_valor = spearmanr(df[\"total_bill\"], df[\"tip\"])\n",
    "print(f\"Spearman r = {r:.4f}, p = {p_valor:.4f}\")\n",
    "\n",
    "r, p_valor = kendalltau(df[\"total_bill\"], df[\"tip\"])\n",
    "print(f\"Kendall tau = {r:.4f}, p = {p_valor:.4f}\")\n",
    "\n",
    "print(\"\\nUm p-valor <= 0,05 indica uma Correlação significativa\")"
   ]
  },
  {
   "cell_type": "markdown",
   "metadata": {
    "id": "g5ILVFyaM9Gp"
   },
   "source": [
    "#### Visualização para Correlação entre 'total_bill' e 'tip'"
   ]
  },
  {
   "cell_type": "code",
   "execution_count": 418,
   "metadata": {
    "colab": {
     "base_uri": "https://localhost:8080/",
     "height": 474
    },
    "executionInfo": {
     "elapsed": 440,
     "status": "ok",
     "timestamp": 1758724074334,
     "user": {
      "displayName": "Hedson Lopes",
      "userId": "00601403561073870653"
     },
     "user_tz": 180
    },
    "id": "hSyJlRjOn42H",
    "outputId": "ea7f44c4-39df-4074-b313-b76d6bd60ee4"
   },
   "outputs": [
    {
     "data": {
      "image/png": "[encoded data removed]",
      "text/plain": [
       "<Figure size 1000x500 with 1 Axes>"
      ]
     },
     "metadata": {},
     "output_type": "display_data"
    }
   ],
   "source": [
    "sns.regplot(data= df, x= \"total_bill\", y= \"tip\");"
   ]
  },
  {
   "cell_type": "markdown",
   "metadata": {
    "id": "-or-4MmVRbin"
   },
   "source": [
    "### Ausência de Multicolinearidade\n",
    "Correlação das variáveis independentes"
   ]
  },
  {
   "cell_type": "code",
   "execution_count": 419,
   "metadata": {
    "colab": {
     "base_uri": "https://localhost:8080/",
     "height": 112
    },
    "executionInfo": {
     "elapsed": 18,
     "status": "ok",
     "timestamp": 1758724074357,
     "user": {
      "displayName": "Hedson Lopes",
      "userId": "00601403561073870653"
     },
     "user_tz": 180
    },
    "id": "OHIqfGvzSQwm",
    "outputId": "f4f5b238-a3a0-4eca-d642-44b13f5dd083"
   },
   "outputs": [
    {
     "data": {
      "text/html": [
       "<div>\n",
       "<style scoped>\n",
       "    .dataframe tbody tr th:only-of-type {\n",
       "        vertical-align: middle;\n",
       "    }\n",
       "\n",
       "    .dataframe tbody tr th {\n",
       "        vertical-align: top;\n",
       "    }\n",
       "\n",
       "    .dataframe thead th {\n",
       "        text-align: right;\n",
       "    }\n",
       "</style>\n",
       "<table border=\"1\" class=\"dataframe\">\n",
       "  <thead>\n",
       "    <tr style=\"text-align: right;\">\n",
       "      <th></th>\n",
       "      <th>total_bill</th>\n",
       "      <th>size</th>\n",
       "    </tr>\n",
       "  </thead>\n",
       "  <tbody>\n",
       "    <tr>\n",
       "      <th>total_bill</th>\n",
       "      <td>1.00</td>\n",
       "      <td>0.60</td>\n",
       "    </tr>\n",
       "    <tr>\n",
       "      <th>size</th>\n",
       "      <td>0.60</td>\n",
       "      <td>1.00</td>\n",
       "    </tr>\n",
       "  </tbody>\n",
       "</table>\n",
       "</div>"
      ],
      "text/plain": [
       "            total_bill  size\n",
       "total_bill        1.00  0.60\n",
       "size              0.60  1.00"
      ]
     },
     "execution_count": 419,
     "metadata": {},
     "output_type": "execute_result"
    }
   ],
   "source": [
    "independentes = df[[\"total_bill\", \"size\"]]\n",
    "independentes.corr()"
   ]
  },
  {
   "cell_type": "markdown",
   "metadata": {
    "id": "xS9Tcnxv_MWj"
   },
   "source": [
    "### Escalonamento\n",
    "#### Padronização dos Dados\n",
    "Padronização é o processo de centralizar as variáveis em torno da média e escalá-las para ter desvio padrão 1."
   ]
  },
  {
   "cell_type": "code",
   "execution_count": 420,
   "metadata": {
    "colab": {
     "base_uri": "https://localhost:8080/",
     "height": 143
    },
    "executionInfo": {
     "elapsed": 17,
     "status": "ok",
     "timestamp": 1758724074381,
     "user": {
      "displayName": "Hedson Lopes",
      "userId": "00601403561073870653"
     },
     "user_tz": 180
    },
    "id": "KrPrbz4l_Rx8",
    "outputId": "c9d99bb9-cd09-409a-ffbd-b7f5fba13eef"
   },
   "outputs": [
    {
     "data": {
      "text/html": [
       "<div>\n",
       "<style scoped>\n",
       "    .dataframe tbody tr th:only-of-type {\n",
       "        vertical-align: middle;\n",
       "    }\n",
       "\n",
       "    .dataframe tbody tr th {\n",
       "        vertical-align: top;\n",
       "    }\n",
       "\n",
       "    .dataframe thead th {\n",
       "        text-align: right;\n",
       "    }\n",
       "</style>\n",
       "<table border=\"1\" class=\"dataframe\">\n",
       "  <thead>\n",
       "    <tr style=\"text-align: right;\">\n",
       "      <th></th>\n",
       "      <th>total_bill</th>\n",
       "      <th>tip</th>\n",
       "      <th>sex</th>\n",
       "      <th>smoker</th>\n",
       "      <th>time</th>\n",
       "      <th>size</th>\n",
       "      <th>person_bill</th>\n",
       "      <th>person_tip</th>\n",
       "      <th>waiter_percent</th>\n",
       "      <th>day_Thur</th>\n",
       "      <th>day_Fri</th>\n",
       "      <th>day_Sat</th>\n",
       "      <th>day_Sun</th>\n",
       "    </tr>\n",
       "  </thead>\n",
       "  <tbody>\n",
       "    <tr>\n",
       "      <th>0</th>\n",
       "      <td>-0.31</td>\n",
       "      <td>-1.44</td>\n",
       "      <td>-1.34</td>\n",
       "      <td>-0.78</td>\n",
       "      <td>-0.62</td>\n",
       "      <td>-0.60</td>\n",
       "      <td>0.21</td>\n",
       "      <td>-1.45</td>\n",
       "      <td>-1.66</td>\n",
       "      <td>-0.58</td>\n",
       "      <td>-0.29</td>\n",
       "      <td>-0.74</td>\n",
       "      <td>1.49</td>\n",
       "    </tr>\n",
       "    <tr>\n",
       "      <th>1</th>\n",
       "      <td>-1.06</td>\n",
       "      <td>-0.97</td>\n",
       "      <td>0.74</td>\n",
       "      <td>-0.78</td>\n",
       "      <td>-0.62</td>\n",
       "      <td>0.45</td>\n",
       "      <td>-1.53</td>\n",
       "      <td>-1.35</td>\n",
       "      <td>-0.00</td>\n",
       "      <td>-0.58</td>\n",
       "      <td>-0.29</td>\n",
       "      <td>-0.74</td>\n",
       "      <td>1.49</td>\n",
       "    </tr>\n",
       "    <tr>\n",
       "      <th>2</th>\n",
       "      <td>0.14</td>\n",
       "      <td>0.36</td>\n",
       "      <td>0.74</td>\n",
       "      <td>-0.78</td>\n",
       "      <td>-0.62</td>\n",
       "      <td>0.45</td>\n",
       "      <td>-0.31</td>\n",
       "      <td>-0.09</td>\n",
       "      <td>0.10</td>\n",
       "      <td>-0.58</td>\n",
       "      <td>-0.29</td>\n",
       "      <td>-0.74</td>\n",
       "      <td>1.49</td>\n",
       "    </tr>\n",
       "  </tbody>\n",
       "</table>\n",
       "</div>"
      ],
      "text/plain": [
       "   total_bill   tip   sex  smoker  time  size  person_bill  person_tip  \\\n",
       "0       -0.31 -1.44 -1.34   -0.78 -0.62 -0.60         0.21       -1.45   \n",
       "1       -1.06 -0.97  0.74   -0.78 -0.62  0.45        -1.53       -1.35   \n",
       "2        0.14  0.36  0.74   -0.78 -0.62  0.45        -0.31       -0.09   \n",
       "\n",
       "   waiter_percent  day_Thur  day_Fri  day_Sat  day_Sun  \n",
       "0           -1.66     -0.58    -0.29    -0.74     1.49  \n",
       "1           -0.00     -0.58    -0.29    -0.74     1.49  \n",
       "2            0.10     -0.58    -0.29    -0.74     1.49  "
      ]
     },
     "execution_count": 420,
     "metadata": {},
     "output_type": "execute_result"
    }
   ],
   "source": [
    "scaler = StandardScaler()\n",
    "padronizadas = scaler.fit_transform(df)\n",
    "padronizadas = pd.DataFrame(padronizadas, columns=df.columns)\n",
    "padronizadas.head(3)"
   ]
  },
  {
   "cell_type": "markdown",
   "metadata": {
    "id": "aCXoGxTsBS2Q"
   },
   "source": [
    "#### Normalização Min-Max\n",
    "A normalização Min-Max escala as variáveis para um intervalo específico, geralmente [0, 1], útil para algoritmos sensíveis à escala dos dados"
   ]
  },
  {
   "cell_type": "code",
   "execution_count": 421,
   "metadata": {
    "colab": {
     "base_uri": "https://localhost:8080/",
     "height": 143
    },
    "executionInfo": {
     "elapsed": 17,
     "status": "ok",
     "timestamp": 1758724074490,
     "user": {
      "displayName": "Hedson Lopes",
      "userId": "00601403561073870653"
     },
     "user_tz": 180
    },
    "id": "AD4tdZ5FB7nt",
    "outputId": "2c5d3abf-89b9-4f97-9ca4-89f3a2eb8a78"
   },
   "outputs": [
    {
     "data": {
      "text/html": [
       "<div>\n",
       "<style scoped>\n",
       "    .dataframe tbody tr th:only-of-type {\n",
       "        vertical-align: middle;\n",
       "    }\n",
       "\n",
       "    .dataframe tbody tr th {\n",
       "        vertical-align: top;\n",
       "    }\n",
       "\n",
       "    .dataframe thead th {\n",
       "        text-align: right;\n",
       "    }\n",
       "</style>\n",
       "<table border=\"1\" class=\"dataframe\">\n",
       "  <thead>\n",
       "    <tr style=\"text-align: right;\">\n",
       "      <th></th>\n",
       "      <th>total_bill</th>\n",
       "      <th>tip</th>\n",
       "      <th>sex</th>\n",
       "      <th>smoker</th>\n",
       "      <th>time</th>\n",
       "      <th>size</th>\n",
       "      <th>person_bill</th>\n",
       "      <th>person_tip</th>\n",
       "      <th>waiter_percent</th>\n",
       "      <th>day_Thur</th>\n",
       "      <th>day_Fri</th>\n",
       "      <th>day_Sat</th>\n",
       "      <th>day_Sun</th>\n",
       "    </tr>\n",
       "  </thead>\n",
       "  <tbody>\n",
       "    <tr>\n",
       "      <th>0</th>\n",
       "      <td>0.29</td>\n",
       "      <td>0.00</td>\n",
       "      <td>0.00</td>\n",
       "      <td>0.00</td>\n",
       "      <td>0.00</td>\n",
       "      <td>0.20</td>\n",
       "      <td>0.32</td>\n",
       "      <td>0.03</td>\n",
       "      <td>0.04</td>\n",
       "      <td>0.00</td>\n",
       "      <td>0.00</td>\n",
       "      <td>0.00</td>\n",
       "      <td>1.00</td>\n",
       "    </tr>\n",
       "    <tr>\n",
       "      <th>1</th>\n",
       "      <td>0.15</td>\n",
       "      <td>0.07</td>\n",
       "      <td>1.00</td>\n",
       "      <td>0.00</td>\n",
       "      <td>0.00</td>\n",
       "      <td>0.40</td>\n",
       "      <td>0.03</td>\n",
       "      <td>0.05</td>\n",
       "      <td>0.19</td>\n",
       "      <td>0.00</td>\n",
       "      <td>0.00</td>\n",
       "      <td>0.00</td>\n",
       "      <td>1.00</td>\n",
       "    </tr>\n",
       "    <tr>\n",
       "      <th>2</th>\n",
       "      <td>0.38</td>\n",
       "      <td>0.28</td>\n",
       "      <td>1.00</td>\n",
       "      <td>0.00</td>\n",
       "      <td>0.00</td>\n",
       "      <td>0.40</td>\n",
       "      <td>0.24</td>\n",
       "      <td>0.26</td>\n",
       "      <td>0.19</td>\n",
       "      <td>0.00</td>\n",
       "      <td>0.00</td>\n",
       "      <td>0.00</td>\n",
       "      <td>1.00</td>\n",
       "    </tr>\n",
       "  </tbody>\n",
       "</table>\n",
       "</div>"
      ],
      "text/plain": [
       "   total_bill  tip  sex  smoker  time  size  person_bill  person_tip  \\\n",
       "0        0.29 0.00 0.00    0.00  0.00  0.20         0.32        0.03   \n",
       "1        0.15 0.07 1.00    0.00  0.00  0.40         0.03        0.05   \n",
       "2        0.38 0.28 1.00    0.00  0.00  0.40         0.24        0.26   \n",
       "\n",
       "   waiter_percent  day_Thur  day_Fri  day_Sat  day_Sun  \n",
       "0            0.04      0.00     0.00     0.00     1.00  \n",
       "1            0.19      0.00     0.00     0.00     1.00  \n",
       "2            0.19      0.00     0.00     0.00     1.00  "
      ]
     },
     "execution_count": 421,
     "metadata": {},
     "output_type": "execute_result"
    }
   ],
   "source": [
    "minmax = MinMaxScaler()\n",
    "normalizadas = minmax.fit_transform(df)\n",
    "normalizadas = pd.DataFrame(normalizadas, columns=df.columns)\n",
    "normalizadas.head(3)"
   ]
  },
  {
   "cell_type": "markdown",
   "metadata": {
    "id": "ZvlZfhEAF2LC"
   },
   "source": [
    "### Divisão da base - Treino e Teste"
   ]
  },
  {
   "cell_type": "code",
   "execution_count": 422,
   "metadata": {
    "executionInfo": {
     "elapsed": 9,
     "status": "ok",
     "timestamp": 1758724074507,
     "user": {
      "displayName": "Hedson Lopes",
      "userId": "00601403561073870653"
     },
     "user_tz": 180
    },
    "id": "0D3GLVCtF3gK"
   },
   "outputs": [],
   "source": [
    "X = padronizadas.drop([\"tip\", \"person_tip\", \"waiter_percent\"], axis=1)\n",
    "y = padronizadas[\"tip\"]\n",
    "\n",
    "# Separa os dados em treino (80%) e teste (20%)\n",
    "X_train, X_test, y_train, y_test = train_test_split(X, y, test_size=0.2, random_state=42,)"
   ]
  },
  {
   "cell_type": "markdown",
   "metadata": {
    "id": "qzrfOFLcEYY3"
   },
   "source": [
    "### Seleção de Variáveis\n",
    "#### Stepwise com AIC\n",
    "**Teoria:**\n",
    "**Stepwise Selection** é uma técnica que combina forward e backward selection, usando métricas como AIC.\n",
    "- AIC penaliza modelos complexos.\n",
    "- Permite encontrar subconjuntos de variáveis com bom poder preditivo sem overfitting."
   ]
  },
  {
   "cell_type": "code",
   "execution_count": 423,
   "metadata": {
    "executionInfo": {
     "elapsed": 22,
     "status": "ok",
     "timestamp": 1758724074539,
     "user": {
      "displayName": "Hedson Lopes",
      "userId": "00601403561073870653"
     },
     "user_tz": 180
    },
    "id": "lKN6pGW6D7BU"
   },
   "outputs": [],
   "source": [
    "def calculate_aic(model, X, y):\n",
    "    n = len(y)\n",
    "    k = X.shape[1] + 1  # número de parâmetros, incluindo o intercepto\n",
    "    y_pred = model.predict(X)\n",
    "    mse = mean_squared_error(y, y_pred)\n",
    "    aic = n * np.log(mse) + 2 * k\n",
    "    return aic"
   ]
  },
  {
   "cell_type": "markdown",
   "metadata": {
    "id": "7gRt1pWUoz2t"
   },
   "source": [
    "#### Implementação Stepwise Forward + Backward\n",
    "Iremos criar as seguintes variáveis:\n",
    "\n",
    "- selected_features: Lista que armazenará as variáveis selecionadas durante o procedimento.\n",
    "- stepwise_model: Modelo de regressão linear a ser ajustado.\n",
    "- best_aic: Variável que armazenará o menor AIC encontrado."
   ]
  },
  {
   "cell_type": "markdown",
   "metadata": {
    "id": "cK1Uoo_RpTuG"
   },
   "source": [
    "#### Seleção de variáveis com Stepwise (avançando e removendo as variáveis com base no menor AIC)"
   ]
  },
  {
   "cell_type": "code",
   "execution_count": 424,
   "metadata": {
    "colab": {
     "base_uri": "https://localhost:8080/"
    },
    "executionInfo": {
     "elapsed": 19,
     "status": "ok",
     "timestamp": 1758724074611,
     "user": {
      "displayName": "Hedson Lopes",
      "userId": "00601403561073870653"
     },
     "user_tz": 180
    },
    "id": "ujTX19pppKN2",
    "outputId": "03e09b0a-354a-4883-c98f-1637c154e11e"
   },
   "outputs": [
    {
     "name": "stdout",
     "output_type": "stream",
     "text": [
      "Selecionadas pelo Stepwise: ['total_bill', 'person_bill']\n"
     ]
    }
   ],
   "source": [
    "def forward_backward_stepwise_selection(X, y):\n",
    "    selected = []\n",
    "    best_aic = float('inf')\n",
    "    model = LinearRegression()\n",
    "\n",
    "    while True:\n",
    "        changed = False\n",
    "        candidates = [col for col in X.columns if col not in selected]\n",
    "        best_candidate, best_model = None, None\n",
    "\n",
    "        for feat in candidates:\n",
    "            model.fit(X[selected + [feat]], y)\n",
    "            aic = calculate_aic(model, X[selected + [feat]], y)\n",
    "            if aic < best_aic:\n",
    "                best_aic, best_candidate = aic, feat\n",
    "                changed = True\n",
    "\n",
    "        if changed:\n",
    "            selected.append(best_candidate)\n",
    "        else:\n",
    "            break\n",
    "\n",
    "    return selected\n",
    "\n",
    "# Retorna lista de variáveis selecionadas pelo critério de AIC\n",
    "selected_stepwise = forward_backward_stepwise_selection(X_train, y_train)\n",
    "print(\"Selecionadas pelo Stepwise:\", selected_stepwise)"
   ]
  },
  {
   "cell_type": "markdown",
   "metadata": {
    "id": "rjOgOfAMqKAZ"
   },
   "source": [
    "### Treinando modelo com variáveis selecionadas\n",
    "\n",
    "Ajuste do modelo Linear com as variáveis escolhidas"
   ]
  },
  {
   "cell_type": "code",
   "execution_count": 425,
   "metadata": {
    "executionInfo": {
     "elapsed": 10,
     "status": "ok",
     "timestamp": 1758724074633,
     "user": {
      "displayName": "Hedson Lopes",
      "userId": "00601403561073870653"
     },
     "user_tz": 180
    },
    "id": "ZrlvpNofqL1s"
   },
   "outputs": [],
   "source": [
    "model_stepwise = LinearRegression().fit(X_train[selected_stepwise], y_train)\n",
    "y_pred_stepwise = model_stepwise.predict(X_test[selected_stepwise])"
   ]
  },
  {
   "cell_type": "markdown",
   "metadata": {
    "id": "oN8cWEDwq2Tb"
   },
   "source": [
    "#### Avaliação do modelo Stepwise\n",
    "\n",
    "Calcular as métricas de avaliação para o modelo Stepwise"
   ]
  },
  {
   "cell_type": "code",
   "execution_count": 426,
   "metadata": {
    "colab": {
     "base_uri": "https://localhost:8080/",
     "height": 81
    },
    "executionInfo": {
     "elapsed": 26,
     "status": "ok",
     "timestamp": 1758724074655,
     "user": {
      "displayName": "Hedson Lopes",
      "userId": "00601403561073870653"
     },
     "user_tz": 180
    },
    "id": "iyttzm7Hq3Fp",
    "outputId": "1be45897-dd17-46f4-91ec-4f5a271d07ff"
   },
   "outputs": [
    {
     "data": {
      "text/html": [
       "<div>\n",
       "<style scoped>\n",
       "    .dataframe tbody tr th:only-of-type {\n",
       "        vertical-align: middle;\n",
       "    }\n",
       "\n",
       "    .dataframe tbody tr th {\n",
       "        vertical-align: top;\n",
       "    }\n",
       "\n",
       "    .dataframe thead th {\n",
       "        text-align: right;\n",
       "    }\n",
       "</style>\n",
       "<table border=\"1\" class=\"dataframe\">\n",
       "  <thead>\n",
       "    <tr style=\"text-align: right;\">\n",
       "      <th></th>\n",
       "      <th>Modelo</th>\n",
       "      <th>MAE</th>\n",
       "      <th>MSE</th>\n",
       "      <th>AIC</th>\n",
       "      <th>BIC</th>\n",
       "      <th>R²</th>\n",
       "    </tr>\n",
       "  </thead>\n",
       "  <tbody>\n",
       "    <tr>\n",
       "      <th>0</th>\n",
       "      <td>Stepwise</td>\n",
       "      <td>0.50</td>\n",
       "      <td>0.36</td>\n",
       "      <td>-46.64</td>\n",
       "      <td>-42.86</td>\n",
       "      <td>0.46</td>\n",
       "    </tr>\n",
       "  </tbody>\n",
       "</table>\n",
       "</div>"
      ],
      "text/plain": [
       "     Modelo  MAE  MSE    AIC    BIC   R²\n",
       "0  Stepwise 0.50 0.36 -46.64 -42.86 0.46"
      ]
     },
     "execution_count": 426,
     "metadata": {},
     "output_type": "execute_result"
    }
   ],
   "source": [
    "n = len(y_test)\n",
    "k = len(selected_stepwise)\n",
    "mse = mean_squared_error(y_test, y_pred_stepwise)\n",
    "aic = n * np.log(mse) + 2 * k\n",
    "bic = n * np.log(mse) + k * np.log(n)\n",
    "\n",
    "results = [{\n",
    "    'Modelo': 'Stepwise',\n",
    "    'MAE': mean_absolute_error(y_test, y_pred_stepwise),\n",
    "    'MSE': mse,\n",
    "    'AIC': aic,\n",
    "    'BIC': bic,\n",
    "    'R²': model_stepwise.score(X_test[selected_stepwise], y_test)\n",
    "}]\n",
    "\n",
    "pd.DataFrame(results)"
   ]
  },
  {
   "cell_type": "markdown",
   "metadata": {
    "id": "wTMJ2quhuvCf"
   },
   "source": [
    "### SFS (Sequential Feature Selector)\n",
    "\n",
    "O **SFS (mlxtend)** realiza seleção de variáveis de forma sequencial:\n",
    "- `forward=True`: começa com nenhuma variável e vai adicionando.\n",
    "- `floating=True`: permite remoção/backward no meio do processo.\n",
    "- Permite validação cruzada com métrica personalizada (ex: MSE)."
   ]
  },
  {
   "cell_type": "code",
   "execution_count": 427,
   "metadata": {
    "colab": {
     "base_uri": "https://localhost:8080/"
    },
    "executionInfo": {
     "elapsed": 581,
     "status": "ok",
     "timestamp": 1758724075244,
     "user": {
      "displayName": "Hedson Lopes",
      "userId": "00601403561073870653"
     },
     "user_tz": 180
    },
    "id": "bXuO8r75uwai",
    "outputId": "3efd66a2-2aa9-459f-cd32-c06478651e72"
   },
   "outputs": [
    {
     "name": "stdout",
     "output_type": "stream",
     "text": [
      "Variáveis selecionadas pelo SFS: ['total_bill', 'smoker', 'day_Fri']\n"
     ]
    }
   ],
   "source": [
    "sfs_model = SFS(LinearRegression(),\n",
    "                k_features='best',\n",
    "                forward=True,\n",
    "                floating=True,  # Ativa stepwise (entra e remove variáveis)\n",
    "                scoring='neg_mean_squared_error',\n",
    "                cv=5)\n",
    "\n",
    "sfs_model.fit(X_train, y_train)\n",
    "print(\"Variáveis selecionadas pelo SFS:\", list(sfs_model.k_feature_names_))"
   ]
  },
  {
   "cell_type": "markdown",
   "metadata": {
    "id": "GeHTkR6xvFpS"
   },
   "source": [
    "#### Avaliação do modelo SFS"
   ]
  },
  {
   "cell_type": "code",
   "execution_count": 428,
   "metadata": {
    "colab": {
     "base_uri": "https://localhost:8080/",
     "height": 112
    },
    "executionInfo": {
     "elapsed": 21,
     "status": "ok",
     "timestamp": 1758724075248,
     "user": {
      "displayName": "Hedson Lopes",
      "userId": "00601403561073870653"
     },
     "user_tz": 180
    },
    "id": "8y1k4z-cvbpp",
    "outputId": "eca71e5d-bcd0-4199-f706-6de90ecb3e3a"
   },
   "outputs": [
    {
     "data": {
      "text/html": [
       "<div>\n",
       "<style scoped>\n",
       "    .dataframe tbody tr th:only-of-type {\n",
       "        vertical-align: middle;\n",
       "    }\n",
       "\n",
       "    .dataframe tbody tr th {\n",
       "        vertical-align: top;\n",
       "    }\n",
       "\n",
       "    .dataframe thead th {\n",
       "        text-align: right;\n",
       "    }\n",
       "</style>\n",
       "<table border=\"1\" class=\"dataframe\">\n",
       "  <thead>\n",
       "    <tr style=\"text-align: right;\">\n",
       "      <th></th>\n",
       "      <th>Modelo</th>\n",
       "      <th>MAE</th>\n",
       "      <th>MSE</th>\n",
       "      <th>AIC</th>\n",
       "      <th>BIC</th>\n",
       "      <th>R²</th>\n",
       "    </tr>\n",
       "  </thead>\n",
       "  <tbody>\n",
       "    <tr>\n",
       "      <th>0</th>\n",
       "      <td>Stepwise</td>\n",
       "      <td>0.50</td>\n",
       "      <td>0.36</td>\n",
       "      <td>-46.64</td>\n",
       "      <td>-42.86</td>\n",
       "      <td>0.46</td>\n",
       "    </tr>\n",
       "    <tr>\n",
       "      <th>1</th>\n",
       "      <td>SFS (mlxtend)</td>\n",
       "      <td>0.46</td>\n",
       "      <td>0.33</td>\n",
       "      <td>-48.20</td>\n",
       "      <td>-42.52</td>\n",
       "      <td>0.50</td>\n",
       "    </tr>\n",
       "  </tbody>\n",
       "</table>\n",
       "</div>"
      ],
      "text/plain": [
       "          Modelo  MAE  MSE    AIC    BIC   R²\n",
       "0       Stepwise 0.50 0.36 -46.64 -42.86 0.46\n",
       "1  SFS (mlxtend) 0.46 0.33 -48.20 -42.52 0.50"
      ]
     },
     "execution_count": 428,
     "metadata": {},
     "output_type": "execute_result"
    }
   ],
   "source": [
    "selected_sfs = list(sfs_model.k_feature_names_)\n",
    "model_sfs = LinearRegression().fit(X_train[selected_sfs], y_train)\n",
    "y_pred_sfs = model_sfs.predict(X_test[selected_sfs])\n",
    "\n",
    "n = len(y_test)\n",
    "k = len(selected_sfs)\n",
    "mse = mean_squared_error(y_test, y_pred_sfs)\n",
    "aic = n * np.log(mse) + 2 * k\n",
    "bic = n * np.log(mse) + k * np.log(n)\n",
    "\n",
    "results.append({\n",
    "    'Modelo': 'SFS (mlxtend)',\n",
    "    'MAE': mean_absolute_error(y_test, y_pred_sfs),\n",
    "    'MSE': mse,\n",
    "    'AIC': aic,\n",
    "    'BIC': bic,\n",
    "    'R²': model_sfs.score(X_test[selected_sfs], y_test)\n",
    "})\n",
    "\n",
    "pd.DataFrame(results)"
   ]
  },
  {
   "cell_type": "markdown",
   "metadata": {
    "id": "UmN8aGYZvrSn"
   },
   "source": [
    "### Lasso (L1 Regularization)\n",
    "\n",
    "O **Lasso** aplica uma penalização  L1 que força alguns coeficientes a serem zero:\n",
    "- Elimina variáveis irrelevantes automaticamente.\n",
    "- Útil quando há muitas variáveis correlacionadas.\n",
    "- O parâmetro alpha controla a intensidade da penalização."
   ]
  },
  {
   "cell_type": "code",
   "execution_count": 429,
   "metadata": {
    "colab": {
     "base_uri": "https://localhost:8080/"
    },
    "executionInfo": {
     "elapsed": 5490,
     "status": "ok",
     "timestamp": 1758724080740,
     "user": {
      "displayName": "Hedson Lopes",
      "userId": "00601403561073870653"
     },
     "user_tz": 180
    },
    "id": "3uYitq_9vsPL",
    "outputId": "f0a06b38-3f55-4960-9d18-f9a9958083a0"
   },
   "outputs": [
    {
     "name": "stderr",
     "output_type": "stream",
     "text": [
      "/home/red/Projects/.tips/lib/python3.12/site-packages/sklearn/linear_model/_coordinate_descent.py:695: ConvergenceWarning: Objective did not converge. You might want to increase the number of iterations, check the scale of the features or consider increasing regularisation. Duality gap: 3.308e-01, tolerance: 1.505e-02\n",
      "  model = cd_fast.enet_coordinate_descent(\n",
      "/home/red/Projects/.tips/lib/python3.12/site-packages/sklearn/linear_model/_coordinate_descent.py:695: ConvergenceWarning: Objective did not converge. You might want to increase the number of iterations, check the scale of the features or consider increasing regularisation. Duality gap: 5.912e-01, tolerance: 1.605e-02\n",
      "  model = cd_fast.enet_coordinate_descent(\n",
      "/home/red/Projects/.tips/lib/python3.12/site-packages/sklearn/linear_model/_coordinate_descent.py:695: ConvergenceWarning: Objective did not converge. You might want to increase the number of iterations, check the scale of the features or consider increasing regularisation. Duality gap: 3.312e-01, tolerance: 1.505e-02\n",
      "  model = cd_fast.enet_coordinate_descent(\n",
      "/home/red/Projects/.tips/lib/python3.12/site-packages/sklearn/linear_model/_coordinate_descent.py:695: ConvergenceWarning: Objective did not converge. You might want to increase the number of iterations, check the scale of the features or consider increasing regularisation. Duality gap: 3.316e-01, tolerance: 1.505e-02\n",
      "  model = cd_fast.enet_coordinate_descent(\n",
      "/home/red/Projects/.tips/lib/python3.12/site-packages/sklearn/linear_model/_coordinate_descent.py:695: ConvergenceWarning: Objective did not converge. You might want to increase the number of iterations, check the scale of the features or consider increasing regularisation. Duality gap: 7.204e-02, tolerance: 1.505e-02\n",
      "  model = cd_fast.enet_coordinate_descent(\n"
     ]
    },
    {
     "name": "stdout",
     "output_type": "stream",
     "text": [
      "Selecionadas pelo Lasso: ['total_bill', 'size']\n"
     ]
    }
   ],
   "source": [
    "alphas = np.logspace(-4, 4, 100)\n",
    "lasso_cv = GridSearchCV(Lasso(), {'alpha': alphas}, cv=5)\n",
    "lasso_cv.fit(X_train, y_train)\n",
    "\n",
    "best_alpha = lasso_cv.best_params_['alpha']\n",
    "\n",
    "# Modelo final com o melhor alpha encontrado\n",
    "lasso_final = Lasso(alpha=best_alpha).fit(X_train, y_train)\n",
    "\n",
    "# Coeficientes diferentes de zero indicam variáveis selecionadas\n",
    "lasso_coef = lasso_final.coef_\n",
    "selected_lasso = X.columns[lasso_coef != 0]\n",
    "print(\"Selecionadas pelo Lasso:\", list(selected_lasso))"
   ]
  },
  {
   "cell_type": "code",
   "execution_count": 430,
   "metadata": {
    "executionInfo": {
     "elapsed": 9,
     "status": "ok",
     "timestamp": 1758724080780,
     "user": {
      "displayName": "Hedson Lopes",
      "userId": "00601403561073870653"
     },
     "user_tz": 180
    },
    "id": "gk3VFOKiwKu9"
   },
   "outputs": [],
   "source": [
    "y_pred_lasso = lasso_final.predict(X_test)\n",
    "\n",
    "n = len(y_test)\n",
    "k = len(selected_lasso)\n",
    "mse = mean_squared_error(y_test, y_pred_lasso)\n",
    "aic = n * np.log(mse) + 2 * k\n",
    "bic = n * np.log(mse) + k * np.log(n)\n",
    "\n",
    "results.append({\n",
    "    'Modelo': 'Lasso',\n",
    "    'MAE': mean_absolute_error(y_test, y_pred_lasso),\n",
    "    'MSE': mse,\n",
    "    'AIC': aic,\n",
    "    'BIC': bic,\n",
    "    'R²': lasso_final.score(X_test, y_test)\n",
    "})"
   ]
  },
  {
   "cell_type": "markdown",
   "metadata": {
    "id": "MLfXvBSQwOlH"
   },
   "source": [
    "### Comparando os modelos"
   ]
  },
  {
   "cell_type": "code",
   "execution_count": 431,
   "metadata": {
    "colab": {
     "base_uri": "https://localhost:8080/"
    },
    "executionInfo": {
     "elapsed": 20,
     "status": "ok",
     "timestamp": 1758724080831,
     "user": {
      "displayName": "Hedson Lopes",
      "userId": "00601403561073870653"
     },
     "user_tz": 180
    },
    "id": "SYyz39AGwPax",
    "outputId": "c9dd1886-231e-495e-d42f-7b1a4b122e4f"
   },
   "outputs": [
    {
     "name": "stdout",
     "output_type": "stream",
     "text": [
      "          Modelo  MAE  MSE    AIC    BIC   R²\n",
      "0       Stepwise 0.50 0.36 -46.64 -42.86 0.46\n",
      "1  SFS (mlxtend) 0.46 0.33 -48.20 -42.52 0.50\n",
      "2          Lasso 0.47 0.32 -52.17 -48.39 0.52\n"
     ]
    }
   ],
   "source": [
    "results_df = pd.DataFrame(results)\n",
    "print(results_df)"
   ]
  },
  {
   "cell_type": "markdown",
   "metadata": {
    "id": "gtuwDjw9wi61"
   },
   "source": [
    "### Conclusões Didáticas\n",
    "- **Stepwise**: bom ponto de partida, mas pode gerar overfitting.\n",
    "- **Lasso**: ótimo para regularização e eliminar colinearidade.\n",
    "- **SFS**: flexível e robusto com validação cruzada, porém mais lento."
   ]
  },
  {
   "cell_type": "markdown",
   "metadata": {
    "id": "P76zkrh_UTD5"
   },
   "source": [
    "### Uso do OLS para os Modelos"
   ]
  },
  {
   "cell_type": "code",
   "execution_count": 432,
   "metadata": {
    "executionInfo": {
     "elapsed": 15,
     "status": "ok",
     "timestamp": 1758724080881,
     "user": {
      "displayName": "Hedson Lopes",
      "userId": "00601403561073870653"
     },
     "user_tz": 180
    },
    "id": "v3novxqvONt5"
   },
   "outputs": [],
   "source": [
    "# Definindo as variáveis dependentes\n",
    "X_sfs = X[['total_bill', 'smoker', 'day_Fri']]\n",
    "X_lasso = X[['total_bill', 'size']]\n",
    "# Adicionando uma constante à variável independente\n",
    "X_sfs = sm.add_constant(X_sfs)\n",
    "X_lasso = sm.add_constant(X_lasso)\n",
    "# Ajustando o modelo de regressão linear\n",
    "modelo_sfs = sm.OLS(y, X_sfs).fit()\n",
    "modelo_lasso = sm.OLS(y, X_lasso).fit()\n",
    "# Sumário do modelo\n",
    "modelo_sfs_summary = modelo_sfs.summary()\n",
    "modelo_lasso_summary = modelo_lasso.summary()\n",
    "\n",
    "# sm.OLS() é usado para ajustar o modelo de regressão linear ordinária.\n",
    "# sm.add_constant() é necessário pois o OLS não adiciona automaticamente a constante (intercepto)."
   ]
  },
  {
   "cell_type": "markdown",
   "metadata": {
    "id": "6dU-mmnMO36y"
   },
   "source": [
    "### Teste de Homocedasticidade (Breusch-Pagan):\n",
    "Se o p-valor do teste menor que 0.05, indica a presença de heterocedasticidade e pode ser necessário ajustar o modelo ou usar métodos robustos para estimativa de variância."
   ]
  },
  {
   "cell_type": "code",
   "execution_count": 433,
   "metadata": {
    "colab": {
     "base_uri": "https://localhost:8080/"
    },
    "executionInfo": {
     "elapsed": 48,
     "status": "ok",
     "timestamp": 1758724080938,
     "user": {
      "displayName": "Hedson Lopes",
      "userId": "00601403561073870653"
     },
     "user_tz": 180
    },
    "id": "SuTerRjdUYsw",
    "outputId": "1d65237a-45e8-43d3-d761-d2e0624625e3"
   },
   "outputs": [
    {
     "name": "stdout",
     "output_type": "stream",
     "text": [
      "Estatísticas de teste para modelo_sfs: 53.72826958765993\n",
      "p-valor: 1.2822263450715499e-11\n",
      "f-valor: 6.444075975247554e-13\n",
      "f_p-valor: 22.59012180999238\n",
      "Estatísticas de teste para modelo_lasso: 48.15200992135925\n",
      "p-valor: 3.498838520920026e-11\n",
      "f-valor: 3.131697116564497e-12\n",
      "f_p-valor: 29.626636419367546\n"
     ]
    }
   ],
   "source": [
    "# Calcula os resíduos do modelo\n",
    "# Criação de uma lista de tuplas com os modelos e seus respectivos nomes\n",
    "modelos = [\n",
    "    (\"modelo_sfs\", modelo_sfs, X[['total_bill', 'smoker', 'day_Fri']]),\n",
    "    (\"modelo_lasso\", modelo_lasso, X[['total_bill', 'size']])\n",
    "]\n",
    "\n",
    "for nome, modelo,dados in modelos:\n",
    "    estatistica, p, f, fp = het_breuschpagan(modelo.resid, modelo.model.exog)\n",
    "    print(f'Estatísticas de teste para {nome}: {format(estatistica)}')\n",
    "    print(f'p-valor: {p}')\n",
    "    print(f'f-valor: {fp}')\n",
    "    print(f'f_p-valor: {f}')"
   ]
  },
  {
   "cell_type": "markdown",
   "metadata": {
    "id": "zGdoohGXVda5"
   },
   "source": [
    "### Teste de Normalidade dos Resíduos com Shapiro-Wilk\n",
    "Se p-valor do shapiro é superior a 0.05,isso indica que os resíduos seguem aproximadamente uma distribuição normal."
   ]
  },
  {
   "cell_type": "code",
   "execution_count": 434,
   "metadata": {
    "colab": {
     "base_uri": "https://localhost:8080/"
    },
    "executionInfo": {
     "elapsed": 19,
     "status": "ok",
     "timestamp": 1758724080962,
     "user": {
      "displayName": "Hedson Lopes",
      "userId": "00601403561073870653"
     },
     "user_tz": 180
    },
    "id": "X4H6wCi9Vbmr",
    "outputId": "767cb7fd-42f3-429a-8455-2696e1843cac"
   },
   "outputs": [
    {
     "name": "stdout",
     "output_type": "stream",
     "text": [
      "Estatísticas de teste modelo_sfs: 0.9644333937082537\n",
      "p-valor: 9.247399460041296e-06\n",
      "Estatísticas de teste modelo_lasso: 0.9666215690894163\n",
      "p-valor: 1.7765393925727277e-05\n"
     ]
    }
   ],
   "source": [
    "for nome, modelo,dados in modelos:\n",
    "    estatistica_shapiro,p_shapiro = stats.shapiro(modelo.resid)\n",
    "    print(f'Estatísticas de teste {nome}: {format(estatistica_shapiro)}')\n",
    "    print('p-valor: {}'.format(p_shapiro))"
   ]
  },
  {
   "cell_type": "markdown",
   "metadata": {
    "id": "RcrUnAp8WOUj"
   },
   "source": [
    "### Análise dos Modelos"
   ]
  },
  {
   "cell_type": "code",
   "execution_count": 435,
   "metadata": {
    "colab": {
     "base_uri": "https://localhost:8080/"
    },
    "executionInfo": {
     "elapsed": 60,
     "status": "ok",
     "timestamp": 1758724081029,
     "user": {
      "displayName": "Hedson Lopes",
      "userId": "00601403561073870653"
     },
     "user_tz": 180
    },
    "id": "_R_CRqavWj1M",
    "outputId": "5f8fa52c-3f3c-46b0-ac58-ffa0d0170278"
   },
   "outputs": [
    {
     "name": "stdout",
     "output_type": "stream",
     "text": [
      "                            OLS Regression Results                            \n",
      "==============================================================================\n",
      "Dep. Variable:                    tip   R-squared:                       0.460\n",
      "Model:                            OLS   Adj. R-squared:                  0.453\n",
      "Method:                 Least Squares   F-statistic:                     68.04\n",
      "Date:                Wed, 24 Sep 2025   Prob (F-statistic):           7.10e-32\n",
      "Time:                        23:34:54   Log-Likelihood:                -271.13\n",
      "No. Observations:                 244   AIC:                             550.3\n",
      "Df Residuals:                     240   BIC:                             564.3\n",
      "Df Model:                           3                                         \n",
      "Covariance Type:            nonrobust                                         \n",
      "==============================================================================\n",
      "                 coef    std err          t      P>|t|      [0.025      0.975]\n",
      "------------------------------------------------------------------------------\n",
      "const       2.671e-16      0.047   5.63e-15      1.000      -0.093       0.093\n",
      "total_bill     0.6821      0.048     14.233      0.000       0.588       0.776\n",
      "smoker        -0.0567      0.049     -1.152      0.250      -0.154       0.040\n",
      "day_Fri        0.0172      0.049      0.349      0.728      -0.080       0.114\n",
      "==============================================================================\n",
      "Omnibus:                       24.307   Durbin-Watson:                   2.149\n",
      "Prob(Omnibus):                  0.000   Jarque-Bera (JB):               45.037\n",
      "Skew:                           0.538   Prob(JB):                     1.66e-10\n",
      "Kurtosis:                       4.809   Cond. No.                         1.33\n",
      "==============================================================================\n",
      "\n",
      "Notes:\n",
      "[1] Standard Errors assume that the covariance matrix of the errors is correctly specified.\n",
      "                            OLS Regression Results                            \n",
      "==============================================================================\n",
      "Dep. Variable:                    tip   R-squared:                       0.468\n",
      "Model:                            OLS   Adj. R-squared:                  0.463\n",
      "Method:                 Least Squares   F-statistic:                     105.9\n",
      "Date:                Wed, 24 Sep 2025   Prob (F-statistic):           9.67e-34\n",
      "Time:                        23:34:54   Log-Likelihood:                -269.26\n",
      "No. Observations:                 244   AIC:                             544.5\n",
      "Df Residuals:                     241   BIC:                             555.0\n",
      "Df Model:                           2                                         \n",
      "Covariance Type:            nonrobust                                         \n",
      "==============================================================================\n",
      "                 coef    std err          t      P>|t|      [0.025      0.975]\n",
      "------------------------------------------------------------------------------\n",
      "const       2.567e-16      0.047   5.46e-15      1.000      -0.093       0.093\n",
      "total_bill     0.5965      0.059     10.172      0.000       0.481       0.712\n",
      "size           0.1324      0.059      2.258      0.025       0.017       0.248\n",
      "==============================================================================\n",
      "Omnibus:                       24.753   Durbin-Watson:                   2.100\n",
      "Prob(Omnibus):                  0.000   Jarque-Bera (JB):               46.169\n",
      "Skew:                           0.545   Prob(JB):                     9.43e-11\n",
      "Kurtosis:                       4.831   Cond. No.                         1.99\n",
      "==============================================================================\n",
      "\n",
      "Notes:\n",
      "[1] Standard Errors assume that the covariance matrix of the errors is correctly specified.\n"
     ]
    }
   ],
   "source": [
    "for nome, modelo, dados in modelos:\n",
    "    print(str(modelo.summary()))"
   ]
  },
  {
   "cell_type": "markdown",
   "metadata": {
    "id": "uHV65pWEnQOH"
   },
   "source": [
    "No primeiro modelo as variáveis <b>smoker</b> e <b>day_Fri</b> não tiveram um valor $P$ significativo.<br>\n",
    "Sugerindo que podem ser removidas.<br>\n",
    "O segundo modelo explicou $46$% da variabilidade dos nossos dados usando o R ao quadrado Ajustado (por ser regressão multipla).<br>"
   ]
  },
  {
   "cell_type": "markdown",
   "metadata": {
    "id": "QEFXjvPJPQk5"
   },
   "source": [
    "#### Teste T:\n",
    "O Teste T avalia a significância estatística de cada coeficiente no modelo. Um p-valor baixo (< 0.05) indica que o coeficiente é significativo.\n",
    "\n",
    "#### Teste F:\n",
    "O Teste F avalia a significância global do modelo. Um p-valor baixo (< 0.05) sugere que o modelo, como um todo, é significativo.\n",
    "\n",
    "#### R² Ajustado:\n",
    "O R² Ajustado reflete a porcentagem da variabilidade da variável dependente explicada pelo modelo, ajustada pelo número de preditores. Valores mais altos indicam um melhor ajuste."
   ]
  }
 ],
 "metadata": {
  "colab": {
   "authorship_tag": "ABX9TyNzrsqRgTkQv6yBi52FjQiU",
   "provenance": []
  },
  "kernelspec": {
   "display_name": "Python 3 (ipykernel)",
   "language": "python",
   "name": "python3"
  },
  "language_info": {
   "codemirror_mode": {
    "name": "ipython",
    "version": 3
   },
   "file_extension": ".py",
   "mimetype": "text/x-python",
   "name": "python",
   "nbconvert_exporter": "python",
   "pygments_lexer": "ipython3",
   "version": "3.12.11"
  }
 },
 "nbformat": 4,
 "nbformat_minor": 4
}
